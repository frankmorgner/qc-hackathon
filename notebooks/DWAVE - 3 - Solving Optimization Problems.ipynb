{
 "cells": [
  {
   "cell_type": "markdown",
   "metadata": {},
   "source": [
    "<img src=\"images/dwave_leap.png\" width=\"500 px\" align=\"center\">"
   ]
  },
  {
   "cell_type": "markdown",
   "metadata": {},
   "source": [
    "# Solving Optimization Problems on DWAVE\n",
    "\n",
    "\n",
    "\n"
   ]
  },
  {
   "cell_type": "markdown",
   "metadata": {},
   "source": [
    "Optimization in general is to find the best choice among a set of options, subject to a set of constraints. Formulated in words\n",
    "\n",
    "<div align=center>\n",
    "optimize <strong>objective</strong><br>\n",
    "by varying <strong>variables</strong><br>\n",
    "subject to <strong>constraints</strong>\n",
    "</div>\n",
    "<br>\n",
    "\n",
    "We can use D-Wave to solve these kind of problems if the objective and constraints are quadratic at most and the variables have binary values."
   ]
  },
  {
   "cell_type": "code",
   "execution_count": null,
   "metadata": {},
   "outputs": [],
   "source": [
    "import matplotlib.pyplot as plt\n",
    "%matplotlib inline"
   ]
  },
  {
   "cell_type": "markdown",
   "metadata": {},
   "source": [
    "# How to build a QUBO - Part 2"
   ]
  },
  {
   "cell_type": "markdown",
   "metadata": {},
   "source": [
    "Let us consider the following optimization problem with constraints:\n",
    "    \n",
    "**Problem**: \n",
    "\n",
    "You have the following set of numbers $A=\\{1,2,3,4,5\\}$. Find $3$ numbers in $A$ that add up to $8$."
   ]
  },
  {
   "cell_type": "markdown",
   "metadata": {},
   "source": [
    "**Step 1**: Formulate the problem within its domain \n",
    "\n",
    "<div align=left>\n",
    "    <i>objective</i>:&nbsp; minimize sum over numbers in $A$ <br>\n",
    "    <i>variables</i>:&nbsp;  correspond to one of the values in $A$ each <br>\n",
    "    <i>constraints</i>: <ul>\n",
    "    <li>pick just $3$ numbers</li>\n",
    "    <li>sum over all numbers is equal to $8$</li>\n",
    "    </ul>\n",
    "    \n",
    "</div>"
   ]
  },
  {
   "cell_type": "markdown",
   "metadata": {},
   "source": [
    "**Step 2**: Convert objective and constraints to statements with binary variables\n",
    "\n",
    "We introduce binary variables $x$ for each number in $A$. The variable $x_i$ is equal to $1$ if the corresponding \n",
    "number $i$ is part of the solution and $0$ otherwise. Than our objective and constraint read\n",
    "\n",
    "$$\n",
    "\\textrm{obj:}\\hspace{.5cm}\\min_{x\\in\\{0,1\\}}\\sum_{i=1}^5 i x_i\n",
    "$$\n",
    "\n",
    "$$\n",
    "\\textrm{const:}\\hspace{.45cm}\\sum_{i=1}^5 x_i = 3, \\hspace{.5cm}\\sum_{i=1}^5 i x_i = 8\n",
    "$$"
   ]
  },
  {
   "cell_type": "markdown",
   "metadata": {},
   "source": [
    "**Step 3**: Make the objective and constraints \"QUBO appropriate\"\n",
    "- objective is a minimization function\n",
    "- constraints are satisfied at their minimum value\n",
    "\n",
    "Lets QUBOfy our objective function.\n",
    "\n",
    "$$\n",
    "\\textrm{obj:}\\hspace{.5cm}\\min_{x \\in \\{0,1\\}} \\sum_{i=1}^5 i x_i\n",
    "$$\n",
    "\n",
    "and for our constrains\n",
    "\n",
    "$$\n",
    "\\textrm{const:}\\hspace{.5cm}\\sum_{i=1}^5 x_i - 3,\\hspace{.5cm}\\sum_{i=1}^5 i x_i - 8\n",
    "$$\n",
    "\n",
    "But stop! This is **not correct** because the minimum of these constraints would be the trivial solution $\\forall x_i=0$. To avoid this trivial solution we have to **square** the above functions. So the correct constraints are\n",
    "\n",
    "$$\n",
    "\\textrm{const:}\\hspace{.5cm}\\left(\\sum_{i=1}^5 x_i - 3\\right)^2,\\hspace{.5cm}\\left(\\sum_{i=1}^5 i x_i - 8\\right)^2\n",
    "$$\n"
   ]
  },
  {
   "cell_type": "markdown",
   "metadata": {},
   "source": [
    "**Step 4**: Combine your objective and constraint \n",
    "\n",
    "This gives our final QUBO which reads\n",
    "\n",
    "$$\n",
    "   \\textrm{QUBO:} \\hspace{.5cm} \\min_{x \\in \\{0,1\\}} \\left[  \\left( \\sum_{i=1}^5 i x_i - 8 \\right) + \\gamma  \\left(\\sum_{i=1}^5 x_i - 3\\right)^2 + \\gamma \\left( \\sum_{i=1}^5 i x_i - 8 \\right)^2\\right]\n",
    "$$\n",
    "\n",
    "Here we introduced the parameter $\\gamma$ which defines the _penalty strength_ that tunes the impact of our constraint on the overall QUBO. "
   ]
  },
  {
   "cell_type": "markdown",
   "metadata": {},
   "source": [
    "Lets run the code to see that it works..."
   ]
  },
  {
   "cell_type": "code",
   "execution_count": null,
   "metadata": {},
   "outputs": [],
   "source": [
    "import dimod\n",
    "from pyqubo import Binary \n",
    "\n",
    "# objective\n",
    "obj = sum([x*Binary(str(x)) for x in range(1,6)]) - 8\n",
    "\n",
    "# constraints\n",
    "const = (sum([Binary(str(x)) for x in range(1,6)]) - 3)**2 + ( sum([x*Binary(str(x)) for x in range(1,6)]) - 8)**2\n",
    "\n",
    "# penalty strength\n",
    "gamma = 10\n",
    "\n",
    "# create QUBO\n",
    "qubo = obj + gamma*const"
   ]
  },
  {
   "cell_type": "code",
   "execution_count": null,
   "metadata": {},
   "outputs": [],
   "source": [
    "# transform from pyqubo to dimod object\n",
    "model = qubo.compile()\n",
    "Q, offset = model.to_qubo()\n",
    "\n",
    "# create BQM\n",
    "bqm = dimod.BinaryQuadraticModel.from_qubo(Q, offset=offset)"
   ]
  },
  {
   "cell_type": "code",
   "execution_count": null,
   "metadata": {},
   "outputs": [],
   "source": [
    "from utils.libqubo import show_bqm_graph\n",
    "show_bqm_graph(bqm)"
   ]
  },
  {
   "cell_type": "code",
   "execution_count": null,
   "metadata": {},
   "outputs": [],
   "source": [
    "exactsolver = dimod.ExactSolver()\n",
    "sampleset = exactsolver.sample(bqm)\n",
    "\n",
    "# print the results with lowest energy\n",
    "sampleset.lowest().to_pandas_dataframe()"
   ]
  },
  {
   "cell_type": "markdown",
   "metadata": {},
   "source": [
    "Yes! We find the two possible solutions $1+2+5=8$ and $1+3+4=8$. And now on the QPU..."
   ]
  },
  {
   "cell_type": "code",
   "execution_count": null,
   "metadata": {},
   "outputs": [],
   "source": [
    "from dwave.system.samplers import DWaveSampler  \n",
    "\n",
    "MY_TOKEN = \"\" \n",
    "\n",
    "# list the names of all solvers we can access\n",
    "sampler = DWaveSampler(token = MY_TOKEN, solver={'qpu': True})\n",
    "print('Successfully connected to D-Wave Sampler %s.' % sampler.client.get_solver().id)"
   ]
  },
  {
   "cell_type": "code",
   "execution_count": null,
   "metadata": {},
   "outputs": [],
   "source": [
    "from dwave.system.composites import EmbeddingComposite\n",
    "embedded_sampler = EmbeddingComposite(sampler)\n",
    "\n",
    "# sample energy space\n",
    "numruns = 1000\n",
    "sampleset = embedded_sampler.sample(bqm, num_reads=numruns, chain_strength=1)\n",
    "print(\"QPU call complete using\", sampleset.info['timing']['qpu_access_time']/1000000, \"seconds of QPU time for\", numruns, \"samples.\")"
   ]
  },
  {
   "cell_type": "code",
   "execution_count": null,
   "metadata": {},
   "outputs": [],
   "source": [
    "# show samples\n",
    "sampleset.to_pandas_dataframe()"
   ]
  },
  {
   "cell_type": "markdown",
   "metadata": {},
   "source": [
    "Oh what happend here?? That are not the solutions we expect! Well, there are a lot of chain breaks... Maybe we should tune some solver parameters."
   ]
  },
  {
   "cell_type": "code",
   "execution_count": null,
   "metadata": {},
   "outputs": [],
   "source": [
    "# Alternative: Using QBsolve uses a devide-and-conquer strategie\n",
    "# devinding the problem over multiple solvers and postselect the lowest energie results\n",
    "from dwave_qbsolv import QBSolv\n",
    "sampleset = QBSolv().sample(bqm, solver=sampler, num_reads=1000, chain_strength=1)\n",
    "\n",
    "# show samples\n",
    "sampleset.to_pandas_dataframe()"
   ]
  },
  {
   "cell_type": "markdown",
   "metadata": {},
   "source": [
    "Why is the total number of runs not the number we submitted to the sampler?"
   ]
  },
  {
   "cell_type": "markdown",
   "metadata": {},
   "source": [
    "# The Penalty approach"
   ]
  },
  {
   "cell_type": "markdown",
   "metadata": {},
   "source": [
    "The approach we used so far to solve a constraint satisfaction problem, is to map each individual constraint in the to a ‘small’ Ising model or QUBO. This mapping is called a **penalty model**. There are some known penalty models for QUBO constraints.\n",
    "\n",
    "<img src=\"images/penalties.jpg\" width=800>"
   ]
  },
  {
   "cell_type": "markdown",
   "metadata": {},
   "source": [
    "# Questions:\n",
    "\n",
    "- What is the purpose of the Penalty Model? What does it mean in terms of the \"energy landscape\"?\n",
    "- What is the meaning of penalty strength? Whats the best value for it?\n",
    "- What is the meaning of \"chain_strength\"?\n",
    "- What do you expect if your optimization problem as near-optimal solutions that are very close to your optimal solutions?\n",
    "- What are the Hardware constraints to keep in mind when formulating a QUBO for D-Wave?"
   ]
  },
  {
   "cell_type": "markdown",
   "metadata": {},
   "source": [
    "# Exercise: Graph Partitioning"
   ]
  },
  {
   "cell_type": "markdown",
   "metadata": {},
   "source": [
    "<img src=\"images/gp_1.jpg\" width=800>"
   ]
  },
  {
   "cell_type": "markdown",
   "metadata": {},
   "source": [
    "**Step 1**: Formulate the problem within its domain \n"
   ]
  },
  {
   "cell_type": "markdown",
   "metadata": {},
   "source": [
    "**Step 2**: Convert objective and constraints to statements with binary variables\n"
   ]
  },
  {
   "cell_type": "markdown",
   "metadata": {},
   "source": [
    "**Step 3**: Make the objective and constraints \"QUBO appropriate\"\n"
   ]
  },
  {
   "cell_type": "markdown",
   "metadata": {},
   "source": [
    "**Step 4**: Combine your objective and constraint \n"
   ]
  },
  {
   "cell_type": "markdown",
   "metadata": {},
   "source": [
    "# Why using D-Wave currently?"
   ]
  },
  {
   "cell_type": "markdown",
   "metadata": {},
   "source": [
    "Currently D-Wave can work on up to 10k variables and the algorithms make huge progress to solve even larger problems very soon!!"
   ]
  },
  {
   "cell_type": "markdown",
   "metadata": {},
   "source": [
    "4 coloring problem for Canadian provinces\n",
    "<img src=\"images/4color_1.jpg\" width=500>"
   ]
  },
  {
   "cell_type": "markdown",
   "metadata": {},
   "source": [
    "Scaling up using divide-and-concer strategies allows to solve much bigger instances.<br>\n",
    "4 coloring problem for United States\n",
    "<br>\n",
    "<img src=\"images/4color_2.jpg\" width=500>"
   ]
  },
  {
   "cell_type": "markdown",
   "metadata": {},
   "source": [
    "For coloring problem for United States provinces\n",
    "<img src=\"images/4color_4.jpg\" width=500>"
   ]
  }
 ],
 "metadata": {
  "anaconda-cloud": {},
  "kernelspec": {
   "display_name": "AVANETIX",
   "language": "python",
   "name": "python3"
  },
  "language_info": {
   "codemirror_mode": {
    "name": "ipython",
    "version": 3
   },
   "file_extension": ".py",
   "mimetype": "text/x-python",
   "name": "python",
   "nbconvert_exporter": "python",
   "pygments_lexer": "ipython3",
   "version": "3.7.1"
  },
  "varInspector": {
   "cols": {
    "lenName": 16,
    "lenType": 16,
    "lenVar": 40
   },
   "kernels_config": {
    "python": {
     "delete_cmd_postfix": "",
     "delete_cmd_prefix": "del ",
     "library": "var_list.py",
     "varRefreshCmd": "print(var_dic_list())"
    },
    "r": {
     "delete_cmd_postfix": ") ",
     "delete_cmd_prefix": "rm(",
     "library": "var_list.r",
     "varRefreshCmd": "cat(var_dic_list()) "
    }
   },
   "types_to_exclude": [
    "module",
    "function",
    "builtin_function_or_method",
    "instance",
    "_Feature"
   ],
   "window_display": false
  }
 },
 "nbformat": 4,
 "nbformat_minor": 4
}
