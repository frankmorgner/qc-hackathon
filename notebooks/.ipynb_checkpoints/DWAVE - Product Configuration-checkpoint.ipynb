{
 "cells": [
  {
   "cell_type": "markdown",
   "metadata": {},
   "source": [
    "# Optimize product configurations\n",
    "\n",
    "We want to determine product configuration with e.g. minimal and maximal price. Possible product configurations can be compiled from a list of given construction parts. However, do to interdependecies between construction parts further constraints are introduced into the choice of product configurations. Only such product configurations are valid that obey all constraints. Thus, the task at hand is mathematically a combinatorial optimization problem with constraints.\n",
    "\n",
    "In the following script we sketch the way on how to solve such problems on a D-Wave quantum annealer.\n",
    "\n",
    "So let us get started..."
   ]
  },
  {
   "cell_type": "markdown",
   "metadata": {},
   "source": [
    "#### Data \n",
    "Let us assume we want to build e.g. a transistor radio which involves assembling different construction parts.\n",
    "These construction parts are usually called \"variants\" and can be arranged into groups called \"families\". Such a family could for example be called \"Transistors\", \"Cables\" or \"Speaker\". These families include a number of construction parts that represent specific elements or instances of this family, e.g. \"Delux Speakers\" and \"Standard Speakers\". \n",
    "\n",
    "In this example, we straight away see the first class of *restrictions* namely *exclusions*. One can either choose \"Delux Speakers\" or \"Standard Speakers\" but not both at the same time. Therefore, this two construction parts are mutually exclusiv. \n",
    "There are of course also *inclusive restrictions*. For example if I want to use \"Standard Speakers\" I also need to choose a corresponding transistor or fuse. Finaly, we generally have a *global restriction* that forces us to pik exactly one variant from each family in order to build a complete radio.\n",
    "\n",
    "For now lets just focus on these three classes of constraints and try to find optimal solutions to this problem."
   ]
  },
  {
   "cell_type": "markdown",
   "metadata": {},
   "source": [
    "In order to start, we need to generate or load a list of construction parts (variants) with restrictions first."
   ]
  },
  {
   "cell_type": "code",
   "execution_count": 1,
   "metadata": {},
   "outputs": [],
   "source": [
    "import numpy as np\n",
    "import pandas as pd\n",
    "import matplotlib.pyplot as plt\n",
    "%matplotlib inline"
   ]
  },
  {
   "cell_type": "markdown",
   "metadata": {},
   "source": [
    "Load data from CSV file"
   ]
  },
  {
   "cell_type": "code",
   "execution_count": 3,
   "metadata": {},
   "outputs": [],
   "source": [
    "df = pd.read_csv(\"../data/Tutorial-Radio-dataset.csv\")"
   ]
  },
  {
   "cell_type": "markdown",
   "metadata": {},
   "source": [
    "Parse inclusions and exclusions"
   ]
  },
  {
   "cell_type": "code",
   "execution_count": 4,
   "metadata": {},
   "outputs": [],
   "source": [
    "from utils.libqubo import str2list\n",
    "df['exclusion'] = df['exclusion'].apply(lambda x: str2list(x))\n",
    "df['inclusion'] = df['inclusion'].apply(lambda x: str2list(x))"
   ]
  },
  {
   "cell_type": "markdown",
   "metadata": {},
   "source": [
    "Let us print the data to have a look..."
   ]
  },
  {
   "cell_type": "code",
   "execution_count": 5,
   "metadata": {},
   "outputs": [
    {
     "data": {
      "text/html": [
       "<div>\n",
       "<style scoped>\n",
       "    .dataframe tbody tr th:only-of-type {\n",
       "        vertical-align: middle;\n",
       "    }\n",
       "\n",
       "    .dataframe tbody tr th {\n",
       "        vertical-align: top;\n",
       "    }\n",
       "\n",
       "    .dataframe thead th {\n",
       "        text-align: right;\n",
       "    }\n",
       "</style>\n",
       "<table border=\"1\" class=\"dataframe\">\n",
       "  <thead>\n",
       "    <tr style=\"text-align: right;\">\n",
       "      <th></th>\n",
       "      <th>family</th>\n",
       "      <th>name</th>\n",
       "      <th>weight</th>\n",
       "      <th>price</th>\n",
       "      <th>delivery time</th>\n",
       "      <th>exclusion</th>\n",
       "      <th>inclusion</th>\n",
       "    </tr>\n",
       "  </thead>\n",
       "  <tbody>\n",
       "    <tr>\n",
       "      <th>0</th>\n",
       "      <td>Screw</td>\n",
       "      <td>SCR-qVDy3K</td>\n",
       "      <td>4.12</td>\n",
       "      <td>6.67</td>\n",
       "      <td>9.74</td>\n",
       "      <td>[]</td>\n",
       "      <td>[SPE-9Y2Yx7, CAB-OfuugR]</td>\n",
       "    </tr>\n",
       "    <tr>\n",
       "      <th>1</th>\n",
       "      <td>Screw</td>\n",
       "      <td>SCR-Cx3VWK</td>\n",
       "      <td>6.97</td>\n",
       "      <td>10.05</td>\n",
       "      <td>3.38</td>\n",
       "      <td>[]</td>\n",
       "      <td>[SPE-CuGbmD]</td>\n",
       "    </tr>\n",
       "    <tr>\n",
       "      <th>2</th>\n",
       "      <td>Screw</td>\n",
       "      <td>SCR-izYGvV</td>\n",
       "      <td>1.51</td>\n",
       "      <td>0.12</td>\n",
       "      <td>5.08</td>\n",
       "      <td>[SPE-CuGbmD]</td>\n",
       "      <td>[]</td>\n",
       "    </tr>\n",
       "    <tr>\n",
       "      <th>3</th>\n",
       "      <td>Speaker</td>\n",
       "      <td>SPE-9Y2Yx7</td>\n",
       "      <td>7.87</td>\n",
       "      <td>3.07</td>\n",
       "      <td>8.02</td>\n",
       "      <td>[]</td>\n",
       "      <td>[]</td>\n",
       "    </tr>\n",
       "    <tr>\n",
       "      <th>4</th>\n",
       "      <td>Speaker</td>\n",
       "      <td>SPE-CuGbmD</td>\n",
       "      <td>8.35</td>\n",
       "      <td>1.99</td>\n",
       "      <td>6.53</td>\n",
       "      <td>[]</td>\n",
       "      <td>[]</td>\n",
       "    </tr>\n",
       "    <tr>\n",
       "      <th>5</th>\n",
       "      <td>Speaker</td>\n",
       "      <td>SPE-drLp1W</td>\n",
       "      <td>8.84</td>\n",
       "      <td>3.26</td>\n",
       "      <td>1.03</td>\n",
       "      <td>[]</td>\n",
       "      <td>[CAB-o2K0FZ]</td>\n",
       "    </tr>\n",
       "    <tr>\n",
       "      <th>6</th>\n",
       "      <td>Cable</td>\n",
       "      <td>CAB-OfuugR</td>\n",
       "      <td>1.65</td>\n",
       "      <td>2.41</td>\n",
       "      <td>3.69</td>\n",
       "      <td>[]</td>\n",
       "      <td>[]</td>\n",
       "    </tr>\n",
       "    <tr>\n",
       "      <th>7</th>\n",
       "      <td>Cable</td>\n",
       "      <td>CAB-lCQ40x</td>\n",
       "      <td>6.72</td>\n",
       "      <td>2.56</td>\n",
       "      <td>7.65</td>\n",
       "      <td>[]</td>\n",
       "      <td>[SPE-CuGbmD]</td>\n",
       "    </tr>\n",
       "    <tr>\n",
       "      <th>8</th>\n",
       "      <td>Cable</td>\n",
       "      <td>CAB-o2K0FZ</td>\n",
       "      <td>1.86</td>\n",
       "      <td>0.27</td>\n",
       "      <td>3.28</td>\n",
       "      <td>[]</td>\n",
       "      <td>[]</td>\n",
       "    </tr>\n",
       "  </tbody>\n",
       "</table>\n",
       "</div>"
      ],
      "text/plain": [
       "    family        name  weight  price  delivery time     exclusion  \\\n",
       "0    Screw  SCR-qVDy3K    4.12   6.67           9.74            []   \n",
       "1    Screw  SCR-Cx3VWK    6.97  10.05           3.38            []   \n",
       "2    Screw  SCR-izYGvV    1.51   0.12           5.08  [SPE-CuGbmD]   \n",
       "3  Speaker  SPE-9Y2Yx7    7.87   3.07           8.02            []   \n",
       "4  Speaker  SPE-CuGbmD    8.35   1.99           6.53            []   \n",
       "5  Speaker  SPE-drLp1W    8.84   3.26           1.03            []   \n",
       "6    Cable  CAB-OfuugR    1.65   2.41           3.69            []   \n",
       "7    Cable  CAB-lCQ40x    6.72   2.56           7.65            []   \n",
       "8    Cable  CAB-o2K0FZ    1.86   0.27           3.28            []   \n",
       "\n",
       "                  inclusion  \n",
       "0  [SPE-9Y2Yx7, CAB-OfuugR]  \n",
       "1              [SPE-CuGbmD]  \n",
       "2                        []  \n",
       "3                        []  \n",
       "4                        []  \n",
       "5              [CAB-o2K0FZ]  \n",
       "6                        []  \n",
       "7              [SPE-CuGbmD]  \n",
       "8                        []  "
      ]
     },
     "execution_count": 5,
     "metadata": {},
     "output_type": "execute_result"
    }
   ],
   "source": [
    "df"
   ]
  },
  {
   "cell_type": "markdown",
   "metadata": {},
   "source": [
    "The data is a data frame where each row corresponds to a unique variant. For each variant it contains the name of the variant, the name of the family it belongs to, its properties and some exclusiv or inclusive restrictions with respect to other variants. \n",
    "The optimization problem we face now is to pick as many variants from the list as there are families in a way that from each family exactly one variant is choosen, all exclusive and inclusive constraints are fullfilled and that the choice of variants minimizes some parameter."
   ]
  },
  {
   "cell_type": "markdown",
   "metadata": {},
   "source": [
    "Without loss of generatity let us assume that we want to minimize the price of the complete radio."
   ]
  },
  {
   "cell_type": "code",
   "execution_count": 6,
   "metadata": {},
   "outputs": [],
   "source": [
    "optimize_parameter = 'price'"
   ]
  },
  {
   "cell_type": "markdown",
   "metadata": {},
   "source": [
    "# QUBO\n",
    "\n",
    "To find the solution to this problem with the help of a quantum annealer we first need to map our problem to a so called QUBO, which standts for *Quadratic Unconstraint Binary Optimization* problem. This is basically a matrix representation of the interactions between the relations."
   ]
  },
  {
   "cell_type": "code",
   "execution_count": 7,
   "metadata": {},
   "outputs": [],
   "source": [
    "from pyqubo import Binary"
   ]
  },
  {
   "cell_type": "markdown",
   "metadata": {},
   "source": [
    "Our objective is to find a configuration of parts that minimizes a given paramter, e.g. costs. This objective function can be expressed as \n",
    "\n",
    "$f: min \\sum_{i=1}^M p_i * x_i$ , where $M$ is equal to the total number of variables"
   ]
  },
  {
   "cell_type": "code",
   "execution_count": 8,
   "metadata": {},
   "outputs": [],
   "source": [
    "def objective_function(df, para_name, var_name='name'):\n",
    "    '''constructs the objective function given a dataset dataframe and the column labels of the variables and parameter'''\n",
    "    return sum([Binary(x)*p for x,p in df[[var_name,para_name]].values])"
   ]
  },
  {
   "cell_type": "markdown",
   "metadata": {},
   "source": [
    "However, this objective function is additionally subject to some restirctions that we need to take care of as well. In a QUBO model these restirctions are taken care of in form of penalties. Lets construct these penalties one by one."
   ]
  },
  {
   "cell_type": "markdown",
   "metadata": {},
   "source": [
    "Restriction 1: There shall be exactly one construction part from each family.\n",
    "\n",
    "$P_1: ( \\sum_{f=1}^n \\sum_{j \\in f} x_i - 1 )^2$ , where $f$ labels the families and $j$ labels the variables in each family"
   ]
  },
  {
   "cell_type": "code",
   "execution_count": 9,
   "metadata": {},
   "outputs": [],
   "source": [
    "def penalty_family(df, var_name='name', fam_name='family'):\n",
    "    '''constructs a penalty function given a dataset dataframe and a dictionary associating all variables to their respective family'''\n",
    "    penalty = 0\n",
    "    for family in set(df[fam_name].values):\n",
    "        penalty += (sum([ Binary(x) for x in df[df[fam_name]==family][var_name].values ]) - 1)**2\n",
    "    return penalty"
   ]
  },
  {
   "cell_type": "markdown",
   "metadata": {},
   "source": [
    "Restriction 2: The exlcusions from the data set needs to be taken care of\n",
    "\n",
    "$P_2: x*y$ , where $x$ and $y$ are mutually exclusive variables"
   ]
  },
  {
   "cell_type": "code",
   "execution_count": 10,
   "metadata": {},
   "outputs": [],
   "source": [
    "def penalty_exclusion(df, var_name='name', exc_name='exclusion'):\n",
    "    '''constructs a penalty function given a dataset dataframe and the column labels of the variables and exclusions'''\n",
    "    penalty = 0\n",
    "    for x,ys in df[[var_name, exc_name]].values:\n",
    "        penalty += sum([ Binary(x) * Binary(y) for y in ys ])\n",
    "    return penalty"
   ]
  },
  {
   "cell_type": "markdown",
   "metadata": {},
   "source": [
    "Restriction 3: The inlcusions from the data set needs to be taken care of\n",
    "\n",
    "$P_3: 1-x*y$ , where $x$ and $y$ are mutually inclusive variables"
   ]
  },
  {
   "cell_type": "code",
   "execution_count": 11,
   "metadata": {},
   "outputs": [],
   "source": [
    "def penalty_inclusion(df, var_name='name', inc_name='inclusion'):\n",
    "    '''constructs a penalty function given a dataset dataframe and the column labels of the variables and inclusions'''\n",
    "    penalty = 0\n",
    "    for x,ys in df[[var_name, inc_name]].values:\n",
    "        penalty += sum([ Binary(x) + Binary(y) - 2 * Binary(x) * Binary(y) for y in ys ])\n",
    "    return penalty"
   ]
  },
  {
   "cell_type": "code",
   "execution_count": 12,
   "metadata": {},
   "outputs": [
    {
     "name": "stdout",
     "output_type": "stream",
     "text": [
      "Tunable parameters: \n",
      "\tGamma: \t\t\t 25 \n",
      "\tNumber of runs: \t 1000\n"
     ]
    }
   ],
   "source": [
    "# Tunable parameters. \n",
    "gamma = 25\n",
    "numruns = 1000\n",
    "print(\"Tunable parameters: \\n\\tGamma: \\t\\t\\t\",gamma,\"\\n\\tNumber of runs: \\t\",numruns)"
   ]
  },
  {
   "cell_type": "markdown",
   "metadata": {},
   "source": [
    "Having defined the objective function as well as all restriction penalties we can now construct the Hamiltonian by combining all the terms"
   ]
  },
  {
   "cell_type": "code",
   "execution_count": 13,
   "metadata": {},
   "outputs": [],
   "source": [
    "H = objective_function(df, optimize_parameter) + gamma*(penalty_family(df) + penalty_exclusion(df) + penalty_inclusion(df))"
   ]
  },
  {
   "cell_type": "markdown",
   "metadata": {},
   "source": [
    "where we introduced additional parameters $g$ which control the penalty strength. From the Hamiltonian we can now construct the QUBO model as follows"
   ]
  },
  {
   "cell_type": "code",
   "execution_count": 14,
   "metadata": {},
   "outputs": [],
   "source": [
    "model = H.compile()\n",
    "Q, offset = model.to_qubo()"
   ]
  },
  {
   "cell_type": "markdown",
   "metadata": {},
   "source": [
    "We can visualize the QUBO formulation by transforming it to a proper matrix and draw visualize elements."
   ]
  },
  {
   "cell_type": "code",
   "execution_count": 15,
   "metadata": {},
   "outputs": [
    {
     "data": {
      "image/png": "[encoded data removed]",
      "text/plain": [
       "<Figure size 288x288 with 1 Axes>"
      ]
     },
     "metadata": {
      "needs_background": "light"
     },
     "output_type": "display_data"
    }
   ],
   "source": [
    "from utils.libqubo import plot_matrixform\n",
    "plot_matrixform(Q)"
   ]
  },
  {
   "cell_type": "markdown",
   "metadata": {},
   "source": [
    "Since the matrix is always symmetric the lower half is just set to 0 without loss of information. The diagonal elements of the matrix represent the local values for each variant. The off-diagonal elements encode the respective relation between for each pair of variants."
   ]
  },
  {
   "cell_type": "markdown",
   "metadata": {},
   "source": [
    "Now let us run our QUBO problem on the simulated D-Wave annealer first to check if we did everything correctly."
   ]
  },
  {
   "cell_type": "code",
   "execution_count": 16,
   "metadata": {},
   "outputs": [
    {
     "name": "stdout",
     "output_type": "stream",
     "text": [
      "Initialized simulated annealer.\n"
     ]
    }
   ],
   "source": [
    "from neal import SimulatedAnnealingSampler\n",
    "sampler = SimulatedAnnealingSampler()\n",
    "print('Initialized simulated annealer.')"
   ]
  },
  {
   "cell_type": "code",
   "execution_count": 17,
   "metadata": {},
   "outputs": [],
   "source": [
    "results = sampler.sample_qubo(Q, num_reads=1000).aggregate()"
   ]
  },
  {
   "cell_type": "markdown",
   "metadata": {},
   "source": [
    "Show the best configurations with respect to the objective function"
   ]
  },
  {
   "cell_type": "code",
   "execution_count": 18,
   "metadata": {},
   "outputs": [
    {
     "data": {
      "text/html": [
       "<div>\n",
       "<style scoped>\n",
       "    .dataframe tbody tr th:only-of-type {\n",
       "        vertical-align: middle;\n",
       "    }\n",
       "\n",
       "    .dataframe tbody tr th {\n",
       "        vertical-align: top;\n",
       "    }\n",
       "\n",
       "    .dataframe thead th {\n",
       "        text-align: right;\n",
       "    }\n",
       "</style>\n",
       "<table border=\"1\" class=\"dataframe\">\n",
       "  <thead>\n",
       "    <tr style=\"text-align: right;\">\n",
       "      <th></th>\n",
       "      <th>family</th>\n",
       "      <th>name</th>\n",
       "      <th>weight</th>\n",
       "      <th>price</th>\n",
       "      <th>delivery time</th>\n",
       "      <th>exclusion</th>\n",
       "      <th>inclusion</th>\n",
       "    </tr>\n",
       "  </thead>\n",
       "  <tbody>\n",
       "    <tr>\n",
       "      <th>2</th>\n",
       "      <td>Screw</td>\n",
       "      <td>SCR-izYGvV</td>\n",
       "      <td>1.51</td>\n",
       "      <td>0.12</td>\n",
       "      <td>5.08</td>\n",
       "      <td>[SPE-CuGbmD]</td>\n",
       "      <td>[]</td>\n",
       "    </tr>\n",
       "    <tr>\n",
       "      <th>5</th>\n",
       "      <td>Speaker</td>\n",
       "      <td>SPE-drLp1W</td>\n",
       "      <td>8.84</td>\n",
       "      <td>3.26</td>\n",
       "      <td>1.03</td>\n",
       "      <td>[]</td>\n",
       "      <td>[CAB-o2K0FZ]</td>\n",
       "    </tr>\n",
       "    <tr>\n",
       "      <th>8</th>\n",
       "      <td>Cable</td>\n",
       "      <td>CAB-o2K0FZ</td>\n",
       "      <td>1.86</td>\n",
       "      <td>0.27</td>\n",
       "      <td>3.28</td>\n",
       "      <td>[]</td>\n",
       "      <td>[]</td>\n",
       "    </tr>\n",
       "  </tbody>\n",
       "</table>\n",
       "</div>"
      ],
      "text/plain": [
       "    family        name  weight  price  delivery time     exclusion  \\\n",
       "2    Screw  SCR-izYGvV    1.51   0.12           5.08  [SPE-CuGbmD]   \n",
       "5  Speaker  SPE-drLp1W    8.84   3.26           1.03            []   \n",
       "8    Cable  CAB-o2K0FZ    1.86   0.27           3.28            []   \n",
       "\n",
       "      inclusion  \n",
       "2            []  \n",
       "5  [CAB-o2K0FZ]  \n",
       "8            []  "
      ]
     },
     "metadata": {},
     "output_type": "display_data"
    },
    {
     "name": "stdout",
     "output_type": "stream",
     "text": [
      "The best found configuration has a total price of 3.65\n"
     ]
    }
   ],
   "source": [
    "from utils.libqubo import result_dicts\n",
    "best_sim = result_dicts(results, df)[0]\n",
    "display(best_sim)\n",
    "print('The best found configuration has a total %s of %.2f' %(optimize_parameter, sum(best_sim[optimize_parameter])))"
   ]
  },
  {
   "cell_type": "markdown",
   "metadata": {},
   "source": [
    "Ok that looks great! Everything seems to work as expected and all restrictions seem to be fulfilled.\n",
    "But ist that the optimal solution? Lets check by running the same model with the exact solver."
   ]
  },
  {
   "cell_type": "code",
   "execution_count": 21,
   "metadata": {},
   "outputs": [
    {
     "name": "stdout",
     "output_type": "stream",
     "text": [
      "Initialized exact solver.\n"
     ]
    }
   ],
   "source": [
    "import dimod\n",
    "exactsolver = dimod.ExactSolver()\n",
    "print('Initialized exact solver.')"
   ]
  },
  {
   "cell_type": "code",
   "execution_count": 22,
   "metadata": {},
   "outputs": [],
   "source": [
    "exact_results = exactsolver.sample_qubo(Q)"
   ]
  },
  {
   "cell_type": "code",
   "execution_count": 24,
   "metadata": {},
   "outputs": [
    {
     "data": {
      "text/html": [
       "<div>\n",
       "<style scoped>\n",
       "    .dataframe tbody tr th:only-of-type {\n",
       "        vertical-align: middle;\n",
       "    }\n",
       "\n",
       "    .dataframe tbody tr th {\n",
       "        vertical-align: top;\n",
       "    }\n",
       "\n",
       "    .dataframe thead th {\n",
       "        text-align: right;\n",
       "    }\n",
       "</style>\n",
       "<table border=\"1\" class=\"dataframe\">\n",
       "  <thead>\n",
       "    <tr style=\"text-align: right;\">\n",
       "      <th></th>\n",
       "      <th>family</th>\n",
       "      <th>name</th>\n",
       "      <th>weight</th>\n",
       "      <th>price</th>\n",
       "      <th>delivery time</th>\n",
       "      <th>exclusion</th>\n",
       "      <th>inclusion</th>\n",
       "    </tr>\n",
       "  </thead>\n",
       "  <tbody>\n",
       "    <tr>\n",
       "      <th>2</th>\n",
       "      <td>Screw</td>\n",
       "      <td>SCR-izYGvV</td>\n",
       "      <td>1.51</td>\n",
       "      <td>0.12</td>\n",
       "      <td>5.08</td>\n",
       "      <td>[SPE-CuGbmD]</td>\n",
       "      <td>[]</td>\n",
       "    </tr>\n",
       "    <tr>\n",
       "      <th>5</th>\n",
       "      <td>Speaker</td>\n",
       "      <td>SPE-drLp1W</td>\n",
       "      <td>8.84</td>\n",
       "      <td>3.26</td>\n",
       "      <td>1.03</td>\n",
       "      <td>[]</td>\n",
       "      <td>[CAB-o2K0FZ]</td>\n",
       "    </tr>\n",
       "    <tr>\n",
       "      <th>8</th>\n",
       "      <td>Cable</td>\n",
       "      <td>CAB-o2K0FZ</td>\n",
       "      <td>1.86</td>\n",
       "      <td>0.27</td>\n",
       "      <td>3.28</td>\n",
       "      <td>[]</td>\n",
       "      <td>[]</td>\n",
       "    </tr>\n",
       "  </tbody>\n",
       "</table>\n",
       "</div>"
      ],
      "text/plain": [
       "    family        name  weight  price  delivery time     exclusion  \\\n",
       "2    Screw  SCR-izYGvV    1.51   0.12           5.08  [SPE-CuGbmD]   \n",
       "5  Speaker  SPE-drLp1W    8.84   3.26           1.03            []   \n",
       "8    Cable  CAB-o2K0FZ    1.86   0.27           3.28            []   \n",
       "\n",
       "      inclusion  \n",
       "2            []  \n",
       "5  [CAB-o2K0FZ]  \n",
       "8            []  "
      ]
     },
     "metadata": {},
     "output_type": "display_data"
    },
    {
     "name": "stdout",
     "output_type": "stream",
     "text": [
      "The best found configuration has a total price of 3.65\n"
     ]
    }
   ],
   "source": [
    "best_exact = result_dicts(exact_results, df)[0]\n",
    "display(best_exact)\n",
    "print('The best found configuration has a total %s of %.2f' %(optimize_parameter, sum(best_exact[optimize_parameter])))"
   ]
  },
  {
   "cell_type": "code",
   "execution_count": 25,
   "metadata": {},
   "outputs": [
    {
     "data": {
      "text/plain": [
       "True"
      ]
     },
     "execution_count": 25,
     "metadata": {},
     "output_type": "execute_result"
    }
   ],
   "source": [
    "all(best_sim['name'].values==best_exact['name'].values)"
   ]
  },
  {
   "cell_type": "markdown",
   "metadata": {},
   "source": [
    "Well everythings seems to work pretty fine... However, having a closer look at the data set it is easy to see that there exists an even better solution, namely"
   ]
  },
  {
   "cell_type": "code",
   "execution_count": 26,
   "metadata": {},
   "outputs": [
    {
     "data": {
      "text/html": [
       "<div>\n",
       "<style scoped>\n",
       "    .dataframe tbody tr th:only-of-type {\n",
       "        vertical-align: middle;\n",
       "    }\n",
       "\n",
       "    .dataframe tbody tr th {\n",
       "        vertical-align: top;\n",
       "    }\n",
       "\n",
       "    .dataframe thead th {\n",
       "        text-align: right;\n",
       "    }\n",
       "</style>\n",
       "<table border=\"1\" class=\"dataframe\">\n",
       "  <thead>\n",
       "    <tr style=\"text-align: right;\">\n",
       "      <th></th>\n",
       "      <th>family</th>\n",
       "      <th>name</th>\n",
       "      <th>weight</th>\n",
       "      <th>price</th>\n",
       "      <th>delivery time</th>\n",
       "      <th>exclusion</th>\n",
       "      <th>inclusion</th>\n",
       "    </tr>\n",
       "  </thead>\n",
       "  <tbody>\n",
       "    <tr>\n",
       "      <th>2</th>\n",
       "      <td>Screw</td>\n",
       "      <td>SCR-izYGvV</td>\n",
       "      <td>1.51</td>\n",
       "      <td>0.12</td>\n",
       "      <td>5.08</td>\n",
       "      <td>[SPE-CuGbmD]</td>\n",
       "      <td>[]</td>\n",
       "    </tr>\n",
       "    <tr>\n",
       "      <th>3</th>\n",
       "      <td>Speaker</td>\n",
       "      <td>SPE-9Y2Yx7</td>\n",
       "      <td>7.87</td>\n",
       "      <td>3.07</td>\n",
       "      <td>8.02</td>\n",
       "      <td>[]</td>\n",
       "      <td>[]</td>\n",
       "    </tr>\n",
       "    <tr>\n",
       "      <th>8</th>\n",
       "      <td>Cable</td>\n",
       "      <td>CAB-o2K0FZ</td>\n",
       "      <td>1.86</td>\n",
       "      <td>0.27</td>\n",
       "      <td>3.28</td>\n",
       "      <td>[]</td>\n",
       "      <td>[]</td>\n",
       "    </tr>\n",
       "  </tbody>\n",
       "</table>\n",
       "</div>"
      ],
      "text/plain": [
       "    family        name  weight  price  delivery time     exclusion inclusion\n",
       "2    Screw  SCR-izYGvV    1.51   0.12           5.08  [SPE-CuGbmD]        []\n",
       "3  Speaker  SPE-9Y2Yx7    7.87   3.07           8.02            []        []\n",
       "8    Cable  CAB-o2K0FZ    1.86   0.27           3.28            []        []"
      ]
     },
     "metadata": {},
     "output_type": "display_data"
    },
    {
     "name": "stdout",
     "output_type": "stream",
     "text": [
      "The best found configuration has a total price of 3.46\n"
     ]
    }
   ],
   "source": [
    "# what i think the optimal solution should be...\n",
    "guess = df[df['name'].isin(['SCR-izYGvV', 'SPE-9Y2Yx7', 'CAB-o2K0FZ'])]\n",
    "display(guess)\n",
    "print('The best found configuration has a total %s of %.2f' %(optimize_parameter, sum(guess[optimize_parameter])))"
   ]
  },
  {
   "cell_type": "markdown",
   "metadata": {},
   "source": [
    "This result also respects all constraints and yields a __lower__ price than the solution provided by the annealer.  That is rather unexpected, how do we explain this difference? The reason is a subtile error in the way we constructed the QUBO. Taking a closer look we see that the difference between both solutions is the second item which is not choosen in an optimal way. The reason is the inclusion constraint of this  item. What we intended to model with this inclusion is an implicit relation $x=>y$. However, the way we introduce this constraint into our QUBO is be means of a symmetric penalty function which corresponds to $x<=>y$. This leads to the fact that from the point of view of the QUBO the second item includes the third item AND the third item includes the second item, although this constraint is not contained in the original data set! That is the reason why we get consistently a sub-optimal answer."
   ]
  },
  {
   "cell_type": "markdown",
   "metadata": {},
   "source": [
    "So how do we need to model the penalty for inclusions to get there right answer? Unfortunately,I do not know of a way to model such uni-directional constraint with penalty functions. Therefore, we take a different approach and transform a given inclusion to exclusions. "
   ]
  },
  {
   "cell_type": "markdown",
   "metadata": {},
   "source": [
    "# Transform Inclusions to Exclusions"
   ]
  },
  {
   "cell_type": "markdown",
   "metadata": {},
   "source": [
    "Transforming all imnclusions to exclusions yields"
   ]
  },
  {
   "cell_type": "code",
   "execution_count": 28,
   "metadata": {},
   "outputs": [],
   "source": [
    "from utils.libqubo import inclusion2exclusion\n",
    "df = inclusion2exclusion(df)"
   ]
  },
  {
   "cell_type": "code",
   "execution_count": 29,
   "metadata": {},
   "outputs": [
    {
     "data": {
      "text/html": [
       "<div>\n",
       "<style scoped>\n",
       "    .dataframe tbody tr th:only-of-type {\n",
       "        vertical-align: middle;\n",
       "    }\n",
       "\n",
       "    .dataframe tbody tr th {\n",
       "        vertical-align: top;\n",
       "    }\n",
       "\n",
       "    .dataframe thead th {\n",
       "        text-align: right;\n",
       "    }\n",
       "</style>\n",
       "<table border=\"1\" class=\"dataframe\">\n",
       "  <thead>\n",
       "    <tr style=\"text-align: right;\">\n",
       "      <th></th>\n",
       "      <th>family</th>\n",
       "      <th>name</th>\n",
       "      <th>weight</th>\n",
       "      <th>price</th>\n",
       "      <th>delivery time</th>\n",
       "      <th>exclusion</th>\n",
       "      <th>inclusion</th>\n",
       "    </tr>\n",
       "  </thead>\n",
       "  <tbody>\n",
       "    <tr>\n",
       "      <th>0</th>\n",
       "      <td>Screw</td>\n",
       "      <td>SCR-qVDy3K</td>\n",
       "      <td>4.12</td>\n",
       "      <td>6.67</td>\n",
       "      <td>9.74</td>\n",
       "      <td>[SPE-CuGbmD, SPE-drLp1W, CAB-lCQ40x, CAB-o2K0FZ]</td>\n",
       "      <td>[SPE-9Y2Yx7, CAB-OfuugR]</td>\n",
       "    </tr>\n",
       "    <tr>\n",
       "      <th>1</th>\n",
       "      <td>Screw</td>\n",
       "      <td>SCR-Cx3VWK</td>\n",
       "      <td>6.97</td>\n",
       "      <td>10.05</td>\n",
       "      <td>3.38</td>\n",
       "      <td>[SPE-9Y2Yx7, SPE-drLp1W]</td>\n",
       "      <td>[SPE-CuGbmD]</td>\n",
       "    </tr>\n",
       "    <tr>\n",
       "      <th>2</th>\n",
       "      <td>Screw</td>\n",
       "      <td>SCR-izYGvV</td>\n",
       "      <td>1.51</td>\n",
       "      <td>0.12</td>\n",
       "      <td>5.08</td>\n",
       "      <td>[SPE-CuGbmD]</td>\n",
       "      <td>[]</td>\n",
       "    </tr>\n",
       "    <tr>\n",
       "      <th>3</th>\n",
       "      <td>Speaker</td>\n",
       "      <td>SPE-9Y2Yx7</td>\n",
       "      <td>7.87</td>\n",
       "      <td>3.07</td>\n",
       "      <td>8.02</td>\n",
       "      <td>[]</td>\n",
       "      <td>[]</td>\n",
       "    </tr>\n",
       "    <tr>\n",
       "      <th>4</th>\n",
       "      <td>Speaker</td>\n",
       "      <td>SPE-CuGbmD</td>\n",
       "      <td>8.35</td>\n",
       "      <td>1.99</td>\n",
       "      <td>6.53</td>\n",
       "      <td>[]</td>\n",
       "      <td>[]</td>\n",
       "    </tr>\n",
       "    <tr>\n",
       "      <th>5</th>\n",
       "      <td>Speaker</td>\n",
       "      <td>SPE-drLp1W</td>\n",
       "      <td>8.84</td>\n",
       "      <td>3.26</td>\n",
       "      <td>1.03</td>\n",
       "      <td>[CAB-OfuugR, CAB-lCQ40x]</td>\n",
       "      <td>[CAB-o2K0FZ]</td>\n",
       "    </tr>\n",
       "    <tr>\n",
       "      <th>6</th>\n",
       "      <td>Cable</td>\n",
       "      <td>CAB-OfuugR</td>\n",
       "      <td>1.65</td>\n",
       "      <td>2.41</td>\n",
       "      <td>3.69</td>\n",
       "      <td>[]</td>\n",
       "      <td>[]</td>\n",
       "    </tr>\n",
       "    <tr>\n",
       "      <th>7</th>\n",
       "      <td>Cable</td>\n",
       "      <td>CAB-lCQ40x</td>\n",
       "      <td>6.72</td>\n",
       "      <td>2.56</td>\n",
       "      <td>7.65</td>\n",
       "      <td>[SPE-9Y2Yx7, SPE-drLp1W]</td>\n",
       "      <td>[SPE-CuGbmD]</td>\n",
       "    </tr>\n",
       "    <tr>\n",
       "      <th>8</th>\n",
       "      <td>Cable</td>\n",
       "      <td>CAB-o2K0FZ</td>\n",
       "      <td>1.86</td>\n",
       "      <td>0.27</td>\n",
       "      <td>3.28</td>\n",
       "      <td>[]</td>\n",
       "      <td>[]</td>\n",
       "    </tr>\n",
       "  </tbody>\n",
       "</table>\n",
       "</div>"
      ],
      "text/plain": [
       "    family        name  weight  price  delivery time  \\\n",
       "0    Screw  SCR-qVDy3K    4.12   6.67           9.74   \n",
       "1    Screw  SCR-Cx3VWK    6.97  10.05           3.38   \n",
       "2    Screw  SCR-izYGvV    1.51   0.12           5.08   \n",
       "3  Speaker  SPE-9Y2Yx7    7.87   3.07           8.02   \n",
       "4  Speaker  SPE-CuGbmD    8.35   1.99           6.53   \n",
       "5  Speaker  SPE-drLp1W    8.84   3.26           1.03   \n",
       "6    Cable  CAB-OfuugR    1.65   2.41           3.69   \n",
       "7    Cable  CAB-lCQ40x    6.72   2.56           7.65   \n",
       "8    Cable  CAB-o2K0FZ    1.86   0.27           3.28   \n",
       "\n",
       "                                          exclusion                 inclusion  \n",
       "0  [SPE-CuGbmD, SPE-drLp1W, CAB-lCQ40x, CAB-o2K0FZ]  [SPE-9Y2Yx7, CAB-OfuugR]  \n",
       "1                          [SPE-9Y2Yx7, SPE-drLp1W]              [SPE-CuGbmD]  \n",
       "2                                      [SPE-CuGbmD]                        []  \n",
       "3                                                []                        []  \n",
       "4                                                []                        []  \n",
       "5                          [CAB-OfuugR, CAB-lCQ40x]              [CAB-o2K0FZ]  \n",
       "6                                                []                        []  \n",
       "7                          [SPE-9Y2Yx7, SPE-drLp1W]              [SPE-CuGbmD]  \n",
       "8                                                []                        []  "
      ]
     },
     "execution_count": 29,
     "metadata": {},
     "output_type": "execute_result"
    }
   ],
   "source": [
    "df"
   ]
  },
  {
   "cell_type": "markdown",
   "metadata": {},
   "source": [
    "Create a new QUBO which has just exclusion constraints and number of items per family constraints."
   ]
  },
  {
   "cell_type": "code",
   "execution_count": 30,
   "metadata": {},
   "outputs": [
    {
     "data": {
      "image/png": "[encoded data removed]",
      "text/plain": [
       "<Figure size 288x288 with 1 Axes>"
      ]
     },
     "metadata": {
      "needs_background": "light"
     },
     "output_type": "display_data"
    }
   ],
   "source": [
    "H = objective_function(df, optimize_parameter) + gamma*( penalty_family(df) + penalty_exclusion(df) )\n",
    "model = H.compile()\n",
    "Q, offset = model.to_qubo()\n",
    "plot_matrixform(Q)"
   ]
  },
  {
   "cell_type": "code",
   "execution_count": 31,
   "metadata": {},
   "outputs": [
    {
     "name": "stdout",
     "output_type": "stream",
     "text": [
      "Initialized Simulator.\n"
     ]
    }
   ],
   "source": [
    "sampler = SimulatedAnnealingSampler()\n",
    "print(\"Initialized Simulator.\")"
   ]
  },
  {
   "cell_type": "code",
   "execution_count": 32,
   "metadata": {},
   "outputs": [
    {
     "name": "stdout",
     "output_type": "stream",
     "text": [
      "Simulator call complete using 0.2365856170654297 seconds of CPU time for 1000 samples.\n"
     ]
    }
   ],
   "source": [
    "import time\n",
    "start = time.time()\n",
    "sim_samples = sampler.sample_qubo(Q, num_reads=numruns)\n",
    "end = time.time()\n",
    "time_sim = end-start\n",
    "print(\"Simulator call complete using\",time_sim,\"seconds of CPU time for\", numruns, \"samples.\")"
   ]
  },
  {
   "cell_type": "markdown",
   "metadata": {},
   "source": [
    "This yields the following solution"
   ]
  },
  {
   "cell_type": "code",
   "execution_count": 34,
   "metadata": {},
   "outputs": [
    {
     "data": {
      "text/html": [
       "<div>\n",
       "<style scoped>\n",
       "    .dataframe tbody tr th:only-of-type {\n",
       "        vertical-align: middle;\n",
       "    }\n",
       "\n",
       "    .dataframe tbody tr th {\n",
       "        vertical-align: top;\n",
       "    }\n",
       "\n",
       "    .dataframe thead th {\n",
       "        text-align: right;\n",
       "    }\n",
       "</style>\n",
       "<table border=\"1\" class=\"dataframe\">\n",
       "  <thead>\n",
       "    <tr style=\"text-align: right;\">\n",
       "      <th></th>\n",
       "      <th>family</th>\n",
       "      <th>name</th>\n",
       "      <th>weight</th>\n",
       "      <th>price</th>\n",
       "      <th>delivery time</th>\n",
       "      <th>exclusion</th>\n",
       "      <th>inclusion</th>\n",
       "    </tr>\n",
       "  </thead>\n",
       "  <tbody>\n",
       "    <tr>\n",
       "      <th>2</th>\n",
       "      <td>Screw</td>\n",
       "      <td>SCR-izYGvV</td>\n",
       "      <td>1.51</td>\n",
       "      <td>0.12</td>\n",
       "      <td>5.08</td>\n",
       "      <td>[SPE-CuGbmD]</td>\n",
       "      <td>[]</td>\n",
       "    </tr>\n",
       "    <tr>\n",
       "      <th>3</th>\n",
       "      <td>Speaker</td>\n",
       "      <td>SPE-9Y2Yx7</td>\n",
       "      <td>7.87</td>\n",
       "      <td>3.07</td>\n",
       "      <td>8.02</td>\n",
       "      <td>[]</td>\n",
       "      <td>[]</td>\n",
       "    </tr>\n",
       "    <tr>\n",
       "      <th>8</th>\n",
       "      <td>Cable</td>\n",
       "      <td>CAB-o2K0FZ</td>\n",
       "      <td>1.86</td>\n",
       "      <td>0.27</td>\n",
       "      <td>3.28</td>\n",
       "      <td>[]</td>\n",
       "      <td>[]</td>\n",
       "    </tr>\n",
       "  </tbody>\n",
       "</table>\n",
       "</div>"
      ],
      "text/plain": [
       "    family        name  weight  price  delivery time     exclusion inclusion\n",
       "2    Screw  SCR-izYGvV    1.51   0.12           5.08  [SPE-CuGbmD]        []\n",
       "3  Speaker  SPE-9Y2Yx7    7.87   3.07           8.02            []        []\n",
       "8    Cable  CAB-o2K0FZ    1.86   0.27           3.28            []        []"
      ]
     },
     "metadata": {},
     "output_type": "display_data"
    },
    {
     "name": "stdout",
     "output_type": "stream",
     "text": [
      "The best found configuration has a total price of 3.46\n"
     ]
    }
   ],
   "source": [
    "best_new_config = result_dicts(sim_samples, df)[0]\n",
    "display(best_new_config)\n",
    "print('The best found configuration has a total %s of %.2f' %(optimize_parameter, sum(best_new_config[optimize_parameter])))"
   ]
  },
  {
   "cell_type": "markdown",
   "metadata": {},
   "source": [
    "Now we have a valid solution which is also the optimal solution for the posed QUBO problem!\n",
    "And we have learned a lot ;)"
   ]
  },
  {
   "cell_type": "markdown",
   "metadata": {},
   "source": [
    "# Run on D-Wave QPU"
   ]
  },
  {
   "cell_type": "markdown",
   "metadata": {},
   "source": [
    "Having tested the QUBO model on the simulted annealer we can now start to deploy it on the real device and see what happens."
   ]
  },
  {
   "cell_type": "code",
   "execution_count": 35,
   "metadata": {},
   "outputs": [],
   "source": [
    "from dwave.system.samplers import DWaveSampler                                    # Library to interact with the QPU\n",
    "from dwave.system.composites import EmbeddingComposite, FixedEmbeddingComposite   # Library to embed our problem onto the QPU physical graph"
   ]
  },
  {
   "cell_type": "code",
   "execution_count": 36,
   "metadata": {},
   "outputs": [],
   "source": [
    "API_TOKEN = 'DEV-4ea9ebcbafb8c68bfedd0e86b9b905c68aebbacd'"
   ]
  },
  {
   "cell_type": "code",
   "execution_count": 37,
   "metadata": {},
   "outputs": [
    {
     "name": "stdout",
     "output_type": "stream",
     "text": [
      "Connected to QPU named DW_2000Q_5 with chimera architecture.\n",
      "Sampler consists of 2030 qubits and 5909 couplers.\n"
     ]
    }
   ],
   "source": [
    "# connect to D-Wave annealer\n",
    "if DWAVE_QPU:\n",
    "    solver = DWaveSampler(token=API_TOKEN, solver={'qpu': True})\n",
    "    target_nodelist, target_edgelist, _ = solver.structure\n",
    "    print(\"Connected to QPU named\",solver.properties['chip_id'],\"with\",solver.properties['topology']['type'],\"architecture.\")\n",
    "    print('Sampler consists of',len(target_nodelist),'qubits and',len(target_edgelist),'couplers.')"
   ]
  },
  {
   "cell_type": "code",
   "execution_count": 38,
   "metadata": {},
   "outputs": [
    {
     "name": "stdout",
     "output_type": "stream",
     "text": [
      "initialized\n",
      "max qubit fill 2; num maxfull qubits=1\n",
      "embedding trial 1\n",
      "embedding found.\n",
      "max chain length 5; num max chains=1\n",
      "reducing chain lengths\n",
      "max chain length 4; num max chains=1\n",
      "max chain length 3; num max chains=3\n",
      "    num max chains=2\n",
      "    num max chains=1\n",
      "\n",
      "inspect embedding:\n",
      "{'SCR-Cx3VWK': [1958, 1954], 'SCR-qVDy3K': [1957, 1949], 'SCR-izYGvV': [1955, 1959], 'SPE-CuGbmD': [1951, 1944], 'SPE-drLp1W': [1945, 1950], 'CAB-lCQ40x': [1946, 1818], 'CAB-o2K0FZ': [1947, 1821, 1819], 'SPE-9Y2Yx7': [1956, 1948], 'CAB-OfuugR': [1817, 1822]}\n",
      "9\n"
     ]
    }
   ],
   "source": [
    "# find embedding\n",
    "if DWAVE_QPU:\n",
    "    from minorminer import find_embedding\n",
    "    embedding = find_embedding(Q, target_edgelist, verbose=2, random_seed=100)\n",
    "    print('\\ninspect embedding:')\n",
    "    print(embedding)\n",
    "    print(len(embedding))"
   ]
  },
  {
   "cell_type": "code",
   "execution_count": 39,
   "metadata": {},
   "outputs": [
    {
     "name": "stdout",
     "output_type": "stream",
     "text": [
      "QPU call complete using 0.324317 seconds of QPU time for 1000 samples.\n"
     ]
    }
   ],
   "source": [
    "if DWAVE_QPU:\n",
    "    sampler = FixedEmbeddingComposite(solver, embedding)\n",
    "    qpu_samples = sampler.sample_qubo(Q, num_reads=numruns, chain_strength=1200)\n",
    "    print(\"QPU call complete using\", qpu_samples.info['timing']['qpu_access_time']/1000000, \"seconds of QPU time for\", numruns, \"samples.\")"
   ]
  },
  {
   "cell_type": "code",
   "execution_count": 40,
   "metadata": {},
   "outputs": [],
   "source": [
    "# Alternative: find embedding and sample qpu in ONE step with EmbeddingComposite\n",
    "#if DWAVE_QPU:\n",
    "#    embedded_sampler = EmbeddingComposite(sampler)\n",
    "#    qpu_samples = embedded_sampler.sample_qubo(Q, num_reads=numruns, chain_strength=1200)\n",
    "#    print(\"QPU call complete using\", qpu_samples.info['timing']['qpu_access_time']/1000000, \"seconds of QPU time for\", numruns, \"samples.\")"
   ]
  },
  {
   "cell_type": "code",
   "execution_count": 41,
   "metadata": {},
   "outputs": [
    {
     "data": {
      "text/html": [
       "<div>\n",
       "<style scoped>\n",
       "    .dataframe tbody tr th:only-of-type {\n",
       "        vertical-align: middle;\n",
       "    }\n",
       "\n",
       "    .dataframe tbody tr th {\n",
       "        vertical-align: top;\n",
       "    }\n",
       "\n",
       "    .dataframe thead th {\n",
       "        text-align: right;\n",
       "    }\n",
       "</style>\n",
       "<table border=\"1\" class=\"dataframe\">\n",
       "  <thead>\n",
       "    <tr style=\"text-align: right;\">\n",
       "      <th></th>\n",
       "      <th>family</th>\n",
       "      <th>name</th>\n",
       "      <th>weight</th>\n",
       "      <th>price</th>\n",
       "      <th>delivery time</th>\n",
       "      <th>exclusion</th>\n",
       "      <th>inclusion</th>\n",
       "    </tr>\n",
       "  </thead>\n",
       "  <tbody>\n",
       "    <tr>\n",
       "      <th>2</th>\n",
       "      <td>Screw</td>\n",
       "      <td>SCR-izYGvV</td>\n",
       "      <td>1.51</td>\n",
       "      <td>0.12</td>\n",
       "      <td>5.08</td>\n",
       "      <td>[SPE-CuGbmD]</td>\n",
       "      <td>[]</td>\n",
       "    </tr>\n",
       "    <tr>\n",
       "      <th>3</th>\n",
       "      <td>Speaker</td>\n",
       "      <td>SPE-9Y2Yx7</td>\n",
       "      <td>7.87</td>\n",
       "      <td>3.07</td>\n",
       "      <td>8.02</td>\n",
       "      <td>[]</td>\n",
       "      <td>[]</td>\n",
       "    </tr>\n",
       "    <tr>\n",
       "      <th>8</th>\n",
       "      <td>Cable</td>\n",
       "      <td>CAB-o2K0FZ</td>\n",
       "      <td>1.86</td>\n",
       "      <td>0.27</td>\n",
       "      <td>3.28</td>\n",
       "      <td>[]</td>\n",
       "      <td>[]</td>\n",
       "    </tr>\n",
       "  </tbody>\n",
       "</table>\n",
       "</div>"
      ],
      "text/plain": [
       "    family        name  weight  price  delivery time     exclusion inclusion\n",
       "2    Screw  SCR-izYGvV    1.51   0.12           5.08  [SPE-CuGbmD]        []\n",
       "3  Speaker  SPE-9Y2Yx7    7.87   3.07           8.02            []        []\n",
       "8    Cable  CAB-o2K0FZ    1.86   0.27           3.28            []        []"
      ]
     },
     "metadata": {},
     "output_type": "display_data"
    },
    {
     "name": "stdout",
     "output_type": "stream",
     "text": [
      "The best found configuration has a total price of 3.46\n"
     ]
    }
   ],
   "source": [
    "if DWAVE_QPU:    \n",
    "    best_qpu = result_dicts(qpu_samples, df)[0]\n",
    "    display(best_qpu)\n",
    "    print('The best found configuration has a total %s of %.2f' %(optimize_parameter, sum(best_qpu[optimize_parameter])))"
   ]
  },
  {
   "cell_type": "code",
   "execution_count": null,
   "metadata": {},
   "outputs": [],
   "source": []
  }
 ],
 "metadata": {
  "kernelspec": {
   "display_name": "Python 3",
   "language": "python",
   "name": "python3"
  },
  "language_info": {
   "codemirror_mode": {
    "name": "ipython",
    "version": 3
   },
   "file_extension": ".py",
   "mimetype": "text/x-python",
   "name": "python",
   "nbconvert_exporter": "python",
   "pygments_lexer": "ipython3",
   "version": "3.7.1"
  }
 },
 "nbformat": 4,
 "nbformat_minor": 4
}
