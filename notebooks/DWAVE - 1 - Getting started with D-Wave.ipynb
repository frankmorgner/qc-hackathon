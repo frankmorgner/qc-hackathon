{
 "cells": [
  {
   "cell_type": "markdown",
   "metadata": {},
   "source": [
    "<img src=\"images/dwave_leap.png\" width=\"500 px\" align=\"center\">"
   ]
  },
  {
   "cell_type": "markdown",
   "metadata": {},
   "source": [
    "# Getting Started with D-Wave - Part 1\n",
    "\n",
    "Here, we provide an overview of working with Ocean.  The fundamental package of Ocean is _dimod_, a shared API for binary quadratic samplers. It provides a binary quadratic model (BQM) class that contains Ising and quadratic unconstrained binary optimization (QUBO) models used by samplers such as the D-Wave system. It also provides utilities for constructing new samplers and composed samplers and for minor-embedding. Its reference examples include several samplers and composed samplers.\n",
    "\n"
   ]
  },
  {
   "cell_type": "code",
   "execution_count": null,
   "metadata": {},
   "outputs": [],
   "source": [
    "import matplotlib.pyplot as plt\n",
    "%matplotlib inline"
   ]
  },
  {
   "cell_type": "markdown",
   "metadata": {},
   "source": [
    "## Binary Quadratic Models"
   ]
  },
  {
   "cell_type": "markdown",
   "metadata": {},
   "source": [
    "Binary Quadratic Models (BQM) are the fundamental object you can solve on the current quantum annealers. The represent the cost function of an optimization problem where the highest variable terms appearing are of second order i.e. quadratic. In the context of quantum annealing sometimes other terms are in use as well."
   ]
  },
  {
   "cell_type": "markdown",
   "metadata": {},
   "source": [
    "Binary Quadratic Models\n",
    "- **QUBO** - Quadratic Unconstraint Binary Optimization with binary variables that assume the values $0$ and $1$\n",
    "- **ISING** - physically motivated model with binary variables that assume the values $+1$ and $-1$"
   ]
  },
  {
   "cell_type": "markdown",
   "metadata": {},
   "source": [
    "### QUBO"
   ]
  },
  {
   "cell_type": "markdown",
   "metadata": {},
   "source": [
    "Quadratic unconstrained binary optimization. QUBO problems are traditionally used in computer science. Variables $x_i$ are TRUE and FALSE, states that correspond to 1 and 0 values. A QUBO problem is defined using an upper-diagonal matrix $Q$, which is an $N \\times N$ upper-triangular matrix of real weights, and $x$, a vector of binary variables, as minimizing the cost function\n",
    "\n",
    "$$\n",
    "f(x) = \\sum_{i} Q_{ii} x_i + \\sum_{i \\neq j} Q_{ij} x_i x_j \\hspace{1.cm}\\rm{with}\\hspace{.3cm} x_i \\in \\{0,1\\}\n",
    "$$\n",
    "\n",
    "where the diagonal terms $Q_{ii}$ are the linear coefficients and the nonzero off-diagonal terms are the quadratic coefficients $Q_{ij}$. \n",
    "Since the variabels fullfill $x_i^2=x_i$. This can be expressed more concisely as a single $N \\times N$ matrix.\n",
    "\n",
    "$$\n",
    "f(x) = \\sum_{i j} Q_{ij} x_i x_j = x^T Q x\n",
    "$$"
   ]
  },
  {
   "cell_type": "markdown",
   "metadata": {},
   "source": [
    "#### Representations\n",
    "\n",
    "Let us as an example consider the QUBO \n",
    "\n",
    "$$Q = 7x - 9y +4z +xy +2xz -1.5yz$$\n",
    "\n",
    "We can also represent that QUBO as a single $3 \\times 3$ matrix which looks like that\n",
    "\n",
    "$$\n",
    "Q = \n",
    "\\begin{pmatrix}\n",
    "    7 &  1 &  2   \\\\\n",
    "    0 & -9 & -1.5 \\\\\n",
    "    0 &  0 & 4\n",
    "\\end{pmatrix}\n",
    "$$\n",
    "\n",
    "where by convention the lower half of the matrix is put to zero in order to same storage.\n",
    "\n",
    "<img src=\"images/qubo_graph.jpg\" width=800>"
   ]
  },
  {
   "cell_type": "markdown",
   "metadata": {},
   "source": [
    "### ISING"
   ]
  },
  {
   "cell_type": "markdown",
   "metadata": {},
   "source": [
    "In an Ising model the variables $s_i$ are “spin up” (↑) and “spin down” (↓), states that correspond to $+1$ and $−1$ values. The objective function expressed as an Ising model is as follows:\n",
    "\n",
    "$$\n",
    "f(x) = \\sum_{i} h_{i} s_i + \\sum_{i \\neq j} J_{ij} s_i s_j \\hspace{1.cm}\\rm{with}\\hspace{.3cm} s_i \\in \\{-1,1\\}\n",
    "$$\n",
    "\n",
    "where the linear coefficients corresponding to qubit biases are $h_i$, and the quadratic coefficients corresponding to coupling strengths are $J_{ij}$.\n",
    "Since the variabels fullfill $s_i^2 \\neq s_i$ this can be not be expressed as a single matrix. Instead the matrix form of the Ising model reads:\n",
    "\n",
    "$$\n",
    "f(x) = h x + x^T J x\n",
    "$$\n",
    "\n",
    "Ising models can also be visualized as planar graphs."
   ]
  },
  {
   "cell_type": "markdown",
   "metadata": {},
   "source": [
    "## How to build a QUBO - Part 1"
   ]
  },
  {
   "cell_type": "markdown",
   "metadata": {},
   "source": [
    "<img src=\"images/fe_1.jpg\" width=\"800 px\" align=\"center\">"
   ]
  },
  {
   "cell_type": "markdown",
   "metadata": {},
   "source": [
    "Given the above optimization problem, we need to construct the corresponding cost function which represents the energy landscape. We can construct this function using the following steps:\n",
    "\n",
    "1. Initially our cost function is flat: $f_c(X)=0$\n",
    "2. Add a term that lowers the cost function by $-1$, when friends are in the same group.\n",
    "3. Add a term that lowers the cost function by $-1$, when enemies are in the same group.\n"
   ]
  },
  {
   "cell_type": "markdown",
   "metadata": {},
   "source": [
    "In order to find the terms we need to add for enemies and friends, we start with the most general form of a QUDO term for two variables $x$ and $y$:\n",
    "\n",
    "$$\n",
    "ax + by + cxy + d\n",
    "$$\n",
    "\n",
    "and use a truth table to find the suitable coefficients $a,b,c,d$."
   ]
  },
  {
   "cell_type": "markdown",
   "metadata": {},
   "source": [
    "<img src=\"images/fe_3.jpg\" width=\"800 px\" align=\"center\">"
   ]
  },
  {
   "cell_type": "markdown",
   "metadata": {},
   "source": [
    "Thus, if $x$ and $y$ are friends, we find the cost function term\n",
    "\n",
    "$$\n",
    "x + y -2xy -1\n",
    "$$\n",
    "\n",
    "Following the same procedure for the enemies, we find the cost function term\n",
    "\n",
    "$$\n",
    "-x -y + 2xy\n",
    "$$\n",
    "\n",
    "With these terms we can construct the full QUBO for the above problem by adding all terms for the friend pairs $(x,y)$ and $(w,z)$ and the enemies $(y,z)$ which yields\n",
    "\n",
    "$$\n",
    "\\rm{QUBO} = -2 +x +w -2xy +2yz -2wz\n",
    "$$"
   ]
  },
  {
   "cell_type": "markdown",
   "metadata": {},
   "source": [
    "Yeay!! We have a QUBO. Lets have a look at it..."
   ]
  },
  {
   "cell_type": "code",
   "execution_count": null,
   "metadata": {},
   "outputs": [],
   "source": [
    "# define the QUBO function\n",
    "def qubo(x,y,z,w):\n",
    "    return -2 + x + w - 2*x*y + 2*y*z - 2*z*w\n",
    "\n",
    "# plot the qubo\n",
    "from utils.libex import plot_landscape\n",
    "plot_landscape(qubo, n_qubits=4)"
   ]
  },
  {
   "cell_type": "markdown",
   "metadata": {},
   "source": [
    "# Find the exact solution with Ocean "
   ]
  },
  {
   "cell_type": "markdown",
   "metadata": {},
   "source": [
    "In order to find the energies for all states with D-Wave Ocean, we use the __dimod.ExactSolver()__ command. But careful!! This is only realistic for very small problems."
   ]
  },
  {
   "cell_type": "code",
   "execution_count": null,
   "metadata": {},
   "outputs": [],
   "source": [
    "import dimod\n",
    "# define the solver\n",
    "exactsolver = dimod.ExactSolver()"
   ]
  },
  {
   "cell_type": "markdown",
   "metadata": {},
   "source": [
    "Next we need to transform our QUBO equation into the correct input format the DWAVE samplers will accept, which is basically a sparse matrix representation. We can read off the linear and quadratic terms directly to obtain the QUBO"
   ]
  },
  {
   "cell_type": "code",
   "execution_count": null,
   "metadata": {},
   "outputs": [],
   "source": [
    "# using the order: (x, y, z, w)\n",
    "Q = {(0, 0): 1, (3, 3): 1, (0, 1): -2, (1, 2): 2, (2, 3): -2}"
   ]
  },
  {
   "cell_type": "markdown",
   "metadata": {},
   "source": [
    "This form of our QUBO can be submitted to the sampler obtaining the exact results for the encoded problem."
   ]
  },
  {
   "cell_type": "code",
   "execution_count": null,
   "metadata": {},
   "outputs": [],
   "source": [
    "bqm = dimod.BinaryQuadraticModel.from_qubo(Q, offset=-2.0)\n",
    "results = exactsolver.sample(bqm)\n",
    "\n",
    "# print the results\n",
    "for sample, energy in results.data(['sample', 'energy']):\n",
    "    print(list(sample.values()), energy)"
   ]
  },
  {
   "cell_type": "markdown",
   "metadata": {},
   "source": [
    "# Solve optimization problem with Simulated Annealer"
   ]
  },
  {
   "cell_type": "markdown",
   "metadata": {},
   "source": [
    "To test code and develop without using up cloud credits, Ocean provides the **neal** package, a backend for simulated annealing."
   ]
  },
  {
   "cell_type": "code",
   "execution_count": null,
   "metadata": {},
   "outputs": [],
   "source": [
    "import neal\n",
    "sampler = neal.SimulatedAnnealingSampler()\n",
    "response = sampler.sample(bqm, num_reads=10)"
   ]
  },
  {
   "cell_type": "code",
   "execution_count": null,
   "metadata": {},
   "outputs": [],
   "source": [
    "for sample, energy in response.data(['sample', 'energy']):\n",
    "    print(list(sample.values()), energy)"
   ]
  },
  {
   "cell_type": "markdown",
   "metadata": {},
   "source": [
    "The samples are redundant thus lets aggregate the result to see just the unique solutions. "
   ]
  },
  {
   "cell_type": "code",
   "execution_count": null,
   "metadata": {},
   "outputs": [],
   "source": [
    "for sample, energy in response.aggregate().data(['sample', 'energy']):\n",
    "    print(list(sample.values()), energy)"
   ]
  },
  {
   "cell_type": "markdown",
   "metadata": {},
   "source": [
    "Yeay! We found the optimal solutions."
   ]
  },
  {
   "cell_type": "markdown",
   "metadata": {},
   "source": [
    "## Questions:\n",
    "- What is a BQM?\n",
    "- What is the difference between Ising and QUBO models?\n",
    "- Can every BQM by visualized as a graph?\n",
    "- How is a quadratic term in a QUBO visualized in a graph?\n",
    "- How do we find the optimal solution of a QUBO?\n",
    "- Is there always just a single solution to a BQM? "
   ]
  },
  {
   "cell_type": "markdown",
   "metadata": {},
   "source": [
    "## Exercise: What happens if Xavier and Wanda are also friends?"
   ]
  },
  {
   "cell_type": "markdown",
   "metadata": {},
   "source": [
    "<img src=\"images/fe_7.jpg\" width=\"800 px\" align=\"center\">"
   ]
  }
 ],
 "metadata": {
  "anaconda-cloud": {},
  "kernelspec": {
   "display_name": "AVANETIX",
   "language": "python",
   "name": "python3"
  },
  "language_info": {
   "codemirror_mode": {
    "name": "ipython",
    "version": 3
   },
   "file_extension": ".py",
   "mimetype": "text/x-python",
   "name": "python",
   "nbconvert_exporter": "python",
   "pygments_lexer": "ipython3",
   "version": "3.7.1"
  },
  "varInspector": {
   "cols": {
    "lenName": 16,
    "lenType": 16,
    "lenVar": 40
   },
   "kernels_config": {
    "python": {
     "delete_cmd_postfix": "",
     "delete_cmd_prefix": "del ",
     "library": "var_list.py",
     "varRefreshCmd": "print(var_dic_list())"
    },
    "r": {
     "delete_cmd_postfix": ") ",
     "delete_cmd_prefix": "rm(",
     "library": "var_list.r",
     "varRefreshCmd": "cat(var_dic_list()) "
    }
   },
   "types_to_exclude": [
    "module",
    "function",
    "builtin_function_or_method",
    "instance",
    "_Feature"
   ],
   "window_display": false
  }
 },
 "nbformat": 4,
 "nbformat_minor": 4
}
