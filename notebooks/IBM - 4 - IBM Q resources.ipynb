{
 "cells": [
  {
   "cell_type": "markdown",
   "metadata": {},
   "source": [
    "# Qiskit Resources"
   ]
  },
  {
   "cell_type": "markdown",
   "metadata": {},
   "source": [
    "For further reading and some inspiration on more sophisticated algorithms see the following resoures"
   ]
  },
  {
   "cell_type": "markdown",
   "metadata": {},
   "source": [
    "Tutorials:\n",
    "- https://qiskit.org/textbook/\n",
    "    \n",
    "- GitHub:\n",
    "    - https://github.com/Qiskit/qiskit-iqx-tutorials\n",
    "    - https://github.com/Qiskit/qiskit-community-tutorials\n",
    "\n",
    "\n",
    "- YouTube:\n",
    "    - https://www.youtube.com/playlist?list=PLOFEBzvs-Vvp2xg9-POLJhQwtVktlYGbY\n",
    "    \n",
    "Papers:\n",
    "- https://arxiv.org/abs/1804.03719\n",
    "\n",
    "Documentation:\n",
    "- https://qiskit.org/documentation/"
   ]
  },
  {
   "cell_type": "markdown",
   "metadata": {},
   "source": [
    "Especially if you are interested in using more advanced quantum algorithms, have a look at the **Qiskit Aqua** library:\n",
    "\n",
    "https://qiskit-staging.mybluemix.net/documentation/aqua/index.html"
   ]
  },
  {
   "cell_type": "markdown",
   "metadata": {},
   "source": [
    "Have fun coding! :-)"
   ]
  },
  {
   "cell_type": "code",
   "execution_count": null,
   "metadata": {},
   "outputs": [],
   "source": []
  }
 ],
 "metadata": {
  "kernelspec": {
   "display_name": "AVANETIX",
   "language": "python",
   "name": "python3"
  },
  "language_info": {
   "codemirror_mode": {
    "name": "ipython",
    "version": 3
   },
   "file_extension": ".py",
   "mimetype": "text/x-python",
   "name": "python",
   "nbconvert_exporter": "python",
   "pygments_lexer": "ipython3",
   "version": "3.7.1"
  }
 },
 "nbformat": 4,
 "nbformat_minor": 4
}
