{
 "cells": [
  {
   "cell_type": "markdown",
   "metadata": {},
   "source": [
    "# D-Wave Resources"
   ]
  },
  {
   "cell_type": "markdown",
   "metadata": {},
   "source": [
    "For further reading and some inspiration on more sophisticated algorithms see the following resoures"
   ]
  },
  {
   "cell_type": "markdown",
   "metadata": {},
   "source": [
    "Tutorials:\n",
    "- https://docs.dwavesys.com/docs/latest/doc_handbook.html\n",
    "    \n",
    "- GitHub:\n",
    "    - https://github.com/dwavesystems\n",
    "    - https://github.com/dwavesystems/dwave-ocean-sdk\n",
    "    \n",
    "- YouTube:\n",
    "    -https://www.youtube.com/user/dwavesystems/featured\n",
    "    \n",
    "Papers:\n",
    "- https://arxiv.org/pdf/1811.11538.pdf\n",
    "\n",
    "Documentation:\n",
    "- https://docs.ocean.dwavesys.com/en/latest/getting_started.html"
   ]
  },
  {
   "cell_type": "markdown",
   "metadata": {},
   "source": [
    "Especially if you are interested in using more complex problems, have a look at the **D-Wave QBsolv** library:\n",
    "\n",
    "- https://docs.ocean.dwavesys.com/projects/qbsolv/en/latest/\n",
    "- https://readthedocs.com/projects/d-wave-systems-qbsolv/downloads/pdf/latest/"
   ]
  },
  {
   "cell_type": "markdown",
   "metadata": {},
   "source": [
    "Have fun coding! :-)"
   ]
  }
 ],
 "metadata": {
  "kernelspec": {
   "display_name": "AVANETIX",
   "language": "python",
   "name": "python3"
  },
  "language_info": {
   "codemirror_mode": {
    "name": "ipython",
    "version": 3
   },
   "file_extension": ".py",
   "mimetype": "text/x-python",
   "name": "python",
   "nbconvert_exporter": "python",
   "pygments_lexer": "ipython3",
   "version": "3.7.1"
  }
 },
 "nbformat": 4,
 "nbformat_minor": 4
}
