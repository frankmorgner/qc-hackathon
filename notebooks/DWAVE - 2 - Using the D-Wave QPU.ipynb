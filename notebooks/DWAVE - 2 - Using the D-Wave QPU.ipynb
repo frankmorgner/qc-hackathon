{
 "cells": [
  {
   "cell_type": "markdown",
   "metadata": {},
   "source": [
    "<img src=\"images/dwave_leap.png\" width=\"500 px\" align=\"center\">"
   ]
  },
  {
   "cell_type": "markdown",
   "metadata": {},
   "source": [
    "# Getting Started with Ocean - Part 2\n",
    "\n",
    "\n",
    "\n"
   ]
  },
  {
   "cell_type": "code",
   "execution_count": 1,
   "metadata": {},
   "outputs": [],
   "source": [
    "import matplotlib.pyplot as plt\n",
    "%matplotlib inline"
   ]
  },
  {
   "cell_type": "markdown",
   "metadata": {},
   "source": [
    "## Example: Friends & Enemies"
   ]
  },
  {
   "cell_type": "markdown",
   "metadata": {},
   "source": [
    "<img src=\"images/fe_8.jpg\" width=\"800 px\" align=\"center\">"
   ]
  },
  {
   "cell_type": "markdown",
   "metadata": {},
   "source": [
    "Let us start with this slightly modified Friends and Enemy example. The respective QUBO is\n",
    "\n",
    "$$\n",
    "\\rm{QUBO} = -2 +2x -2xy +2yz -2zx\n",
    "$$"
   ]
  },
  {
   "cell_type": "code",
   "execution_count": 2,
   "metadata": {},
   "outputs": [],
   "source": [
    "import dimod \n",
    "\n",
    "# using the order: (x, y, z, w)\n",
    "Q = {(0, 0): 2, (0, 1): -2, (1, 2): 2, (0, 2): -2}\n",
    "Offset = -2\n",
    "\n",
    "# construct the BQM\n",
    "bqm = dimod.BinaryQuadraticModel.from_qubo(Q, offset=Offset)"
   ]
  },
  {
   "cell_type": "code",
   "execution_count": 3,
   "metadata": {},
   "outputs": [
    {
     "data": {
      "image/png": "[encoded data removed]",
      "text/plain": [
       "<Figure size 432x288 with 1 Axes>"
      ]
     },
     "metadata": {},
     "output_type": "display_data"
    }
   ],
   "source": [
    "from utils.libqubo import show_bqm_graph\n",
    "show_bqm_graph(bqm)"
   ]
  },
  {
   "cell_type": "markdown",
   "metadata": {},
   "source": [
    "Now we need to get access to the QPU **solver** provided by D-Wave. A solver is a resource for solving problems. Some solvers interface to the QPU; others leverage CPU and GPU resources.\n",
    "\n",
    "Solvers are responsible for:\n",
    "\n",
    "- Encoding submitted problems\n",
    "- Checking submitted parameters\n",
    "- Decoding answers\n",
    "- Adding problems to a client’s submission queue\n",
    "\n",
    "With the solver as ressource we can use a **sampler** to obtain results for our problem. A sampler is a process that samples from low energy states of a problem’s objective function. A binary quadratic model (BQM) sampler samples from low energy states in models such as those defined by an Ising equation or a Quadratic Unconstrained Binary Optimization (QUBO) problem and returns an iterable of samples, in order of increasing energy. A dimod sampler provides ‘sample_qubo’ and ‘sample_ising’ methods as well as the generic BQM sampler method."
   ]
  },
  {
   "cell_type": "code",
   "execution_count": 4,
   "metadata": {},
   "outputs": [
    {
     "name": "stdout",
     "output_type": "stream",
     "text": [
      "Successfully connected to D-Wave Sampler DW_2000Q_5.\n"
     ]
    }
   ],
   "source": [
    "from dwave.system.samplers import DWaveSampler  \n",
    "\n",
    "MY_TOKEN = \"DEV-4ea9ebcbafb8c68bfedd0e86b9b905c68aebbacd\" \n",
    "\n",
    "# list the names of all solvers we can access\n",
    "sampler = DWaveSampler(token=MY_TOKEN, solver={'qpu': True})\n",
    "print('Successfully connected to D-Wave Sampler %s.' % sampler.client.get_solver().id)"
   ]
  },
  {
   "cell_type": "code",
   "execution_count": 5,
   "metadata": {},
   "outputs": [
    {
     "data": {
      "text/plain": [
       "{'id': 'DW_2000Q_5',\n",
       " 'status': 'ONLINE',\n",
       " 'description': 'D-Wave 2000Q lower-noise system',\n",
       " 'properties': {'num_qubits': 2048,\n",
       "  'h_range': [-2.0, 2.0],\n",
       "  'j_range': [-1.0, 1.0],\n",
       "  'supported_problem_types': ['ising', 'qubo'],\n",
       "  'parameters': {'anneal_offsets': 'A list of anneal offsets for each working qubit (NaN if unused).',\n",
       "   'anneal_schedule': 'A piecewise linear annealing schedule specified by a list of points.',\n",
       "   'annealing_time': 'A positive integer that sets the duration (in microseconds) of quantum annealing time.',\n",
       "   'answer_mode': '',\n",
       "   'auto_scale': '',\n",
       "   'beta': \"Boltzmann distribution parameter. Only used when postprocess is set to 'sampling'.\",\n",
       "   'chains': \"Defines which qubits represent the same logical variable (or 'chain') when postprocessing is enabled.\",\n",
       "   'flux_biases': 'A list of flux biases for each working qubit.',\n",
       "   'flux_drift_compensation': 'A boolean for whether to activate the flux drift compensation.',\n",
       "   'h_gain_schedule': 'A piecewise linear h-gain schedule specified by a list of points.',\n",
       "   'initial_state': 'The initial states to use for the reverse anneal feature.',\n",
       "   'max_answers': '',\n",
       "   'num_reads': '',\n",
       "   'num_spin_reversal_transforms': '',\n",
       "   'postprocess': \"either 'sampling' or 'optimization'\",\n",
       "   'programming_thermalization': 'An integer that gives the time (in microseconds) to wait after programming the processor in order for it to cool back to base temperature..',\n",
       "   'readout_thermalization': 'An integer that gives the time (in microseconds) to wait after each state is read from the processor in order for it to cool back to base temperature.',\n",
       "   'reduce_intersample_correlation': 'A boolean for whether to add pauses between samples.',\n",
       "   'reinitialize_state': 'Whether to reapply the initial_state for every read.',\n",
       "   'inspector_data': 'Extra data to be stored with the problem. Used by the inspector'},\n",
       "  'vfyc': False,\n",
       "  'anneal_offset_step': 0.003410934374257219,\n",
       "  'anneal_offset_step_phi0': 0.00028008137932177067,\n",
       "  'annealing_time_range': [1, 2000],\n",
       "  'chip_id': 'DW_2000Q_5',\n",
       "  'default_annealing_time': 20,\n",
       "  'default_programming_thermalization': 1000,\n",
       "  'default_readout_thermalization': 0,\n",
       "  'extended_j_range': [-2.0, 1.0],\n",
       "  'h_gain_schedule_range': [-5.0, 5.0],\n",
       "  'max_anneal_schedule_points': 12,\n",
       "  'max_h_gain_schedule_points': 20,\n",
       "  'num_reads_range': [1, 10000],\n",
       "  'per_qubit_coupling_range': [-9.0, 6.0],\n",
       "  'problem_run_duration_range': [0, 1000000],\n",
       "  'programming_thermalization_range': [0, 10000],\n",
       "  'readout_thermalization_range': [0, 10000],\n",
       "  'tags': ['lower_noise'],\n",
       "  'topology': {'type': 'chimera', 'shape': [16, 16, 4]},\n",
       "  'category': 'qpu',\n",
       "  'quota_conversion_rate': 1},\n",
       " 'avg_load': 0.11110666666666667}"
      ]
     },
     "execution_count": 5,
     "metadata": {},
     "output_type": "execute_result"
    }
   ],
   "source": [
    "# obtain some information about the solver we use\n",
    "info = sampler.solver.data.copy()\n",
    "del info['properties']['qubits']\n",
    "del info['properties']['couplers']\n",
    "del info['properties']['anneal_offset_ranges']\n",
    "info"
   ]
  },
  {
   "cell_type": "markdown",
   "metadata": {},
   "source": [
    "Lets sample and obtain some results..."
   ]
  },
  {
   "cell_type": "code",
   "execution_count": 6,
   "metadata": {},
   "outputs": [
    {
     "ename": "BinaryQuadraticModelStructureError",
     "evalue": "Problem graph incompatible with solver.",
     "output_type": "error",
     "traceback": [
      "\u001b[0;31m---------------------------------------------------------------------------\u001b[0m",
      "\u001b[0;31mBinaryQuadraticModelStructureError\u001b[0m        Traceback (most recent call last)",
      "\u001b[0;32m<ipython-input-6-0f24fd7c51ce>\u001b[0m in \u001b[0;36m<module>\u001b[0;34m\u001b[0m\n\u001b[1;32m      1\u001b[0m \u001b[0;31m# sample energy space\u001b[0m\u001b[0;34m\u001b[0m\u001b[0;34m\u001b[0m\u001b[0;34m\u001b[0m\u001b[0m\n\u001b[0;32m----> 2\u001b[0;31m \u001b[0msampleset\u001b[0m \u001b[0;34m=\u001b[0m \u001b[0msampler\u001b[0m\u001b[0;34m.\u001b[0m\u001b[0msample\u001b[0m\u001b[0;34m(\u001b[0m\u001b[0mbqm\u001b[0m\u001b[0;34m,\u001b[0m \u001b[0mnum_reads\u001b[0m\u001b[0;34m=\u001b[0m\u001b[0;36m1000\u001b[0m\u001b[0;34m)\u001b[0m\u001b[0;34m\u001b[0m\u001b[0;34m\u001b[0m\u001b[0m\n\u001b[0m",
      "\u001b[0;32m/opt/conda/lib/python3.7/site-packages/dimod/core/sampler.py\u001b[0m in \u001b[0;36msample\u001b[0;34m(self, bqm, **parameters)\u001b[0m\n\u001b[1;32m    174\u001b[0m                 \u001b[0;31m# sample_qubo is implemented\u001b[0m\u001b[0;34m\u001b[0m\u001b[0;34m\u001b[0m\u001b[0;34m\u001b[0m\u001b[0m\n\u001b[1;32m    175\u001b[0m                 \u001b[0mQ\u001b[0m\u001b[0;34m,\u001b[0m \u001b[0moffset\u001b[0m \u001b[0;34m=\u001b[0m \u001b[0mbqm\u001b[0m\u001b[0;34m.\u001b[0m\u001b[0mto_qubo\u001b[0m\u001b[0;34m(\u001b[0m\u001b[0;34m)\u001b[0m\u001b[0;34m\u001b[0m\u001b[0;34m\u001b[0m\u001b[0m\n\u001b[0;32m--> 176\u001b[0;31m                 \u001b[0msampleset\u001b[0m \u001b[0;34m=\u001b[0m \u001b[0mself\u001b[0m\u001b[0;34m.\u001b[0m\u001b[0msample_qubo\u001b[0m\u001b[0;34m(\u001b[0m\u001b[0mQ\u001b[0m\u001b[0;34m,\u001b[0m \u001b[0;34m**\u001b[0m\u001b[0mparameters\u001b[0m\u001b[0;34m)\u001b[0m\u001b[0;34m\u001b[0m\u001b[0;34m\u001b[0m\u001b[0m\n\u001b[0m\u001b[1;32m    177\u001b[0m                 \u001b[0msampleset\u001b[0m\u001b[0;34m.\u001b[0m\u001b[0mrecord\u001b[0m\u001b[0;34m.\u001b[0m\u001b[0menergy\u001b[0m \u001b[0;34m+=\u001b[0m \u001b[0moffset\u001b[0m\u001b[0;34m\u001b[0m\u001b[0;34m\u001b[0m\u001b[0m\n\u001b[1;32m    178\u001b[0m                 \u001b[0;32mreturn\u001b[0m \u001b[0msampleset\u001b[0m\u001b[0;34m\u001b[0m\u001b[0;34m\u001b[0m\u001b[0m\n",
      "\u001b[0;32m/opt/conda/lib/python3.7/site-packages/dwave/system/samplers/dwave_sampler.py\u001b[0m in \u001b[0;36msample_qubo\u001b[0;34m(self, Q, **kwargs)\u001b[0m\n\u001b[1;32m    327\u001b[0m                    for u, v in Q):\n\u001b[1;32m    328\u001b[0m             \u001b[0mmsg\u001b[0m \u001b[0;34m=\u001b[0m \u001b[0;34m\"Problem graph incompatible with solver.\"\u001b[0m\u001b[0;34m\u001b[0m\u001b[0;34m\u001b[0m\u001b[0m\n\u001b[0;32m--> 329\u001b[0;31m             \u001b[0;32mraise\u001b[0m \u001b[0mBinaryQuadraticModelStructureError\u001b[0m\u001b[0;34m(\u001b[0m\u001b[0mmsg\u001b[0m\u001b[0;34m)\u001b[0m\u001b[0;34m\u001b[0m\u001b[0;34m\u001b[0m\u001b[0m\n\u001b[0m\u001b[1;32m    330\u001b[0m \u001b[0;34m\u001b[0m\u001b[0m\n\u001b[1;32m    331\u001b[0m         \u001b[0mfuture\u001b[0m \u001b[0;34m=\u001b[0m \u001b[0mself\u001b[0m\u001b[0;34m.\u001b[0m\u001b[0msolver\u001b[0m\u001b[0;34m.\u001b[0m\u001b[0msample_qubo\u001b[0m\u001b[0;34m(\u001b[0m\u001b[0mQ\u001b[0m\u001b[0;34m,\u001b[0m \u001b[0;34m**\u001b[0m\u001b[0mkwargs\u001b[0m\u001b[0;34m)\u001b[0m\u001b[0;34m\u001b[0m\u001b[0;34m\u001b[0m\u001b[0m\n",
      "\u001b[0;31mBinaryQuadraticModelStructureError\u001b[0m: Problem graph incompatible with solver."
     ]
    }
   ],
   "source": [
    "# sample energy space\n",
    "sampleset = sampler.sample(bqm, num_reads=1000)"
   ]
  },
  {
   "cell_type": "markdown",
   "metadata": {},
   "source": [
    "Oh... obviously our problem can not be embedded on the hardware straight forward. This happens quite often and it is known as the so called embedding problem. So solve that we have to map multiple physical qubits to logic qubits just like in the example below. Multiple physical qubits can be combined to form a logical qubit as long as the form a subset on the Hardware graph, i.e. the form a chain."
   ]
  },
  {
   "cell_type": "markdown",
   "metadata": {},
   "source": [
    "<img src=\"images/embedding.png\" width=1000>"
   ]
  },
  {
   "cell_type": "markdown",
   "metadata": {},
   "source": [
    "So before we are able to encode our problem on a certain QPU we first need to find a suitable embedding. D-Wave provides different routines to find such embeddings, e.g. `minorminer.find_embedding`, `EmbeddingComposite`, `FixedEmbedding`, `LazyEmbedding`. For course you can also manually define your own embedding and hand it to the sampler."
   ]
  },
  {
   "cell_type": "code",
   "execution_count": 7,
   "metadata": {},
   "outputs": [
    {
     "name": "stdout",
     "output_type": "stream",
     "text": [
      "initialized\n",
      "embedding found.\n",
      "max chain length 3; num max chains=1\n",
      "reducing chain lengths\n",
      "max chain length 2; num max chains=1\n",
      "\n",
      "inspect embedding: {0: [224], 1: [230], 2: [226, 229]}\n"
     ]
    }
   ],
   "source": [
    "from minorminer import find_embedding\n",
    "# get target structure\n",
    "target_nodes, target_edges, _ = sampler.structure\n",
    "# find an embedding suitable to the solver\n",
    "embedding = find_embedding(Q, target_edges, verbose=2, random_seed=100)\n",
    "print('\\ninspect embedding:', embedding)"
   ]
  },
  {
   "cell_type": "code",
   "execution_count": 18,
   "metadata": {},
   "outputs": [],
   "source": [
    "from dwave.system.composites import FixedEmbeddingComposite, EmbeddingComposite, LazyEmbeddingComposite\n",
    "# define embedded sampler\n",
    "\n",
    "embedded_sampler = FixedEmbeddingComposite(sampler, embedding)\n",
    "#embedded_sampler = LazyEmbeddingComposite(sampler)\n",
    "#embedded_sampler = EmbeddingComposite(sampler)"
   ]
  },
  {
   "cell_type": "code",
   "execution_count": 16,
   "metadata": {},
   "outputs": [
    {
     "name": "stdout",
     "output_type": "stream",
     "text": [
      "QPU call complete using 0.324321 seconds of QPU time for 1000 samples.\n"
     ]
    }
   ],
   "source": [
    "# sample energy space\n",
    "numruns = 1000\n",
    "sampleset = embedded_sampler.sample(bqm, num_reads=numruns, chain_strength=1)\n",
    "print(\"QPU call complete using\", sampleset.info['timing']['qpu_access_time']/1000000, \"seconds of QPU time for\", numruns, \"samples.\")"
   ]
  },
  {
   "cell_type": "code",
   "execution_count": 17,
   "metadata": {},
   "outputs": [
    {
     "data": {
      "text/html": [
       "<div>\n",
       "<style scoped>\n",
       "    .dataframe tbody tr th:only-of-type {\n",
       "        vertical-align: middle;\n",
       "    }\n",
       "\n",
       "    .dataframe tbody tr th {\n",
       "        vertical-align: top;\n",
       "    }\n",
       "\n",
       "    .dataframe thead th {\n",
       "        text-align: right;\n",
       "    }\n",
       "</style>\n",
       "<table border=\"1\" class=\"dataframe\">\n",
       "  <thead>\n",
       "    <tr style=\"text-align: right;\">\n",
       "      <th></th>\n",
       "      <th>0</th>\n",
       "      <th>1</th>\n",
       "      <th>2</th>\n",
       "      <th>chain_break_fraction</th>\n",
       "      <th>energy</th>\n",
       "      <th>num_occurrences</th>\n",
       "    </tr>\n",
       "  </thead>\n",
       "  <tbody>\n",
       "    <tr>\n",
       "      <th>0</th>\n",
       "      <td>0</td>\n",
       "      <td>1</td>\n",
       "      <td>0</td>\n",
       "      <td>0.0</td>\n",
       "      <td>-2.0</td>\n",
       "      <td>168</td>\n",
       "    </tr>\n",
       "    <tr>\n",
       "      <th>1</th>\n",
       "      <td>0</td>\n",
       "      <td>0</td>\n",
       "      <td>1</td>\n",
       "      <td>0.0</td>\n",
       "      <td>-2.0</td>\n",
       "      <td>202</td>\n",
       "    </tr>\n",
       "    <tr>\n",
       "      <th>2</th>\n",
       "      <td>1</td>\n",
       "      <td>1</td>\n",
       "      <td>1</td>\n",
       "      <td>0.0</td>\n",
       "      <td>-2.0</td>\n",
       "      <td>126</td>\n",
       "    </tr>\n",
       "    <tr>\n",
       "      <th>3</th>\n",
       "      <td>0</td>\n",
       "      <td>0</td>\n",
       "      <td>0</td>\n",
       "      <td>0.0</td>\n",
       "      <td>-2.0</td>\n",
       "      <td>199</td>\n",
       "    </tr>\n",
       "    <tr>\n",
       "      <th>4</th>\n",
       "      <td>1</td>\n",
       "      <td>1</td>\n",
       "      <td>0</td>\n",
       "      <td>0.0</td>\n",
       "      <td>-2.0</td>\n",
       "      <td>124</td>\n",
       "    </tr>\n",
       "    <tr>\n",
       "      <th>5</th>\n",
       "      <td>1</td>\n",
       "      <td>0</td>\n",
       "      <td>1</td>\n",
       "      <td>0.0</td>\n",
       "      <td>-2.0</td>\n",
       "      <td>181</td>\n",
       "    </tr>\n",
       "  </tbody>\n",
       "</table>\n",
       "</div>"
      ],
      "text/plain": [
       "   0  1  2  chain_break_fraction  energy  num_occurrences\n",
       "0  0  1  0                   0.0    -2.0              168\n",
       "1  0  0  1                   0.0    -2.0              202\n",
       "2  1  1  1                   0.0    -2.0              126\n",
       "3  0  0  0                   0.0    -2.0              199\n",
       "4  1  1  0                   0.0    -2.0              124\n",
       "5  1  0  1                   0.0    -2.0              181"
      ]
     },
     "execution_count": 17,
     "metadata": {},
     "output_type": "execute_result"
    }
   ],
   "source": [
    "# show samples\n",
    "sampleset.to_pandas_dataframe()"
   ]
  },
  {
   "cell_type": "markdown",
   "metadata": {},
   "source": [
    "# Workflow\n",
    "\n",
    "1. Map your problem to a binary quadratic model (QUBO or ISING)\n",
    "2. Select a solver\n",
    "3. Find an Embedding of the BQM on the solver or use the D-Wave embeddings\n",
    "4. Use a Sampler to sample the energy space of the BQM"
   ]
  },
  {
   "cell_type": "markdown",
   "metadata": {},
   "source": [
    "# Questions:\n",
    "\n",
    "- Whats the Embedding Problem?\n",
    "- Whats the difference between a logical and a physical qubit?\n",
    "- Which quantum effect is heavily made use of in a quantum annealer?\n",
    "- Can any optimization problem be reformulated as a BQM?"
   ]
  },
  {
   "cell_type": "markdown",
   "metadata": {},
   "source": [
    "# Exercise: "
   ]
  },
  {
   "cell_type": "markdown",
   "metadata": {},
   "source": [
    "Confirm the results from the previous Enemies & Friends problem on the QPU."
   ]
  },
  {
   "cell_type": "code",
   "execution_count": 10,
   "metadata": {},
   "outputs": [],
   "source": [
    "def sample_qubo_on_qpu(Q, shots=1000, chain=10):\n",
    "    # construct BQM\n",
    "    bqm = dimod.BinaryQuadraticModel.from_qubo(Q, offset=-2.0)\n",
    "\n",
    "    # Embedd problem on QPU sampler\n",
    "    sampler = DWaveSampler(token=MY_TOKEN, solver={'qpu': True})\n",
    "    embedded_sampler = EmbeddingComposite(sampler)\n",
    "\n",
    "    # sample energy space\n",
    "    sampleset = embedded_sampler.sample(bqm, num_reads=shots, chain_strength=chain)\n",
    "\n",
    "    # return samples\n",
    "    return sampleset.to_pandas_dataframe()"
   ]
  },
  {
   "cell_type": "code",
   "execution_count": 11,
   "metadata": {},
   "outputs": [
    {
     "data": {
      "text/html": [
       "<div>\n",
       "<style scoped>\n",
       "    .dataframe tbody tr th:only-of-type {\n",
       "        vertical-align: middle;\n",
       "    }\n",
       "\n",
       "    .dataframe tbody tr th {\n",
       "        vertical-align: top;\n",
       "    }\n",
       "\n",
       "    .dataframe thead th {\n",
       "        text-align: right;\n",
       "    }\n",
       "</style>\n",
       "<table border=\"1\" class=\"dataframe\">\n",
       "  <thead>\n",
       "    <tr style=\"text-align: right;\">\n",
       "      <th></th>\n",
       "      <th>0</th>\n",
       "      <th>1</th>\n",
       "      <th>2</th>\n",
       "      <th>3</th>\n",
       "      <th>chain_break_fraction</th>\n",
       "      <th>energy</th>\n",
       "      <th>num_occurrences</th>\n",
       "    </tr>\n",
       "  </thead>\n",
       "  <tbody>\n",
       "    <tr>\n",
       "      <th>0</th>\n",
       "      <td>0</td>\n",
       "      <td>0</td>\n",
       "      <td>1</td>\n",
       "      <td>1</td>\n",
       "      <td>0.0</td>\n",
       "      <td>-3.0</td>\n",
       "      <td>497</td>\n",
       "    </tr>\n",
       "    <tr>\n",
       "      <th>1</th>\n",
       "      <td>1</td>\n",
       "      <td>1</td>\n",
       "      <td>0</td>\n",
       "      <td>0</td>\n",
       "      <td>0.0</td>\n",
       "      <td>-3.0</td>\n",
       "      <td>503</td>\n",
       "    </tr>\n",
       "  </tbody>\n",
       "</table>\n",
       "</div>"
      ],
      "text/plain": [
       "   0  1  2  3  chain_break_fraction  energy  num_occurrences\n",
       "0  0  0  1  1                   0.0    -3.0              497\n",
       "1  1  1  0  0                   0.0    -3.0              503"
      ]
     },
     "execution_count": 11,
     "metadata": {},
     "output_type": "execute_result"
    }
   ],
   "source": [
    "Q = {(0, 0): 1, (3, 3): 1, (0, 1): -2, (1, 2): 2, (2, 3): -2}\n",
    "sample_qubo_on_qpu(Q)"
   ]
  },
  {
   "cell_type": "code",
   "execution_count": 12,
   "metadata": {},
   "outputs": [
    {
     "data": {
      "text/html": [
       "<div>\n",
       "<style scoped>\n",
       "    .dataframe tbody tr th:only-of-type {\n",
       "        vertical-align: middle;\n",
       "    }\n",
       "\n",
       "    .dataframe tbody tr th {\n",
       "        vertical-align: top;\n",
       "    }\n",
       "\n",
       "    .dataframe thead th {\n",
       "        text-align: right;\n",
       "    }\n",
       "</style>\n",
       "<table border=\"1\" class=\"dataframe\">\n",
       "  <thead>\n",
       "    <tr style=\"text-align: right;\">\n",
       "      <th></th>\n",
       "      <th>0</th>\n",
       "      <th>1</th>\n",
       "      <th>2</th>\n",
       "      <th>3</th>\n",
       "      <th>chain_break_fraction</th>\n",
       "      <th>energy</th>\n",
       "      <th>num_occurrences</th>\n",
       "    </tr>\n",
       "  </thead>\n",
       "  <tbody>\n",
       "    <tr>\n",
       "      <th>0</th>\n",
       "      <td>0</td>\n",
       "      <td>0</td>\n",
       "      <td>1</td>\n",
       "      <td>0</td>\n",
       "      <td>0.0</td>\n",
       "      <td>-2.0</td>\n",
       "      <td>124</td>\n",
       "    </tr>\n",
       "    <tr>\n",
       "      <th>1</th>\n",
       "      <td>1</td>\n",
       "      <td>1</td>\n",
       "      <td>0</td>\n",
       "      <td>1</td>\n",
       "      <td>0.0</td>\n",
       "      <td>-2.0</td>\n",
       "      <td>107</td>\n",
       "    </tr>\n",
       "    <tr>\n",
       "      <th>2</th>\n",
       "      <td>0</td>\n",
       "      <td>0</td>\n",
       "      <td>1</td>\n",
       "      <td>1</td>\n",
       "      <td>0.0</td>\n",
       "      <td>-2.0</td>\n",
       "      <td>103</td>\n",
       "    </tr>\n",
       "    <tr>\n",
       "      <th>3</th>\n",
       "      <td>1</td>\n",
       "      <td>1</td>\n",
       "      <td>1</td>\n",
       "      <td>1</td>\n",
       "      <td>0.0</td>\n",
       "      <td>-2.0</td>\n",
       "      <td>115</td>\n",
       "    </tr>\n",
       "    <tr>\n",
       "      <th>4</th>\n",
       "      <td>0</td>\n",
       "      <td>0</td>\n",
       "      <td>0</td>\n",
       "      <td>0</td>\n",
       "      <td>0.0</td>\n",
       "      <td>-2.0</td>\n",
       "      <td>190</td>\n",
       "    </tr>\n",
       "    <tr>\n",
       "      <th>5</th>\n",
       "      <td>1</td>\n",
       "      <td>1</td>\n",
       "      <td>0</td>\n",
       "      <td>0</td>\n",
       "      <td>0.0</td>\n",
       "      <td>-2.0</td>\n",
       "      <td>83</td>\n",
       "    </tr>\n",
       "    <tr>\n",
       "      <th>6</th>\n",
       "      <td>0</td>\n",
       "      <td>1</td>\n",
       "      <td>0</td>\n",
       "      <td>0</td>\n",
       "      <td>0.0</td>\n",
       "      <td>-2.0</td>\n",
       "      <td>183</td>\n",
       "    </tr>\n",
       "    <tr>\n",
       "      <th>7</th>\n",
       "      <td>1</td>\n",
       "      <td>0</td>\n",
       "      <td>1</td>\n",
       "      <td>1</td>\n",
       "      <td>0.0</td>\n",
       "      <td>-2.0</td>\n",
       "      <td>95</td>\n",
       "    </tr>\n",
       "  </tbody>\n",
       "</table>\n",
       "</div>"
      ],
      "text/plain": [
       "   0  1  2  3  chain_break_fraction  energy  num_occurrences\n",
       "0  0  0  1  0                   0.0    -2.0              124\n",
       "1  1  1  0  1                   0.0    -2.0              107\n",
       "2  0  0  1  1                   0.0    -2.0              103\n",
       "3  1  1  1  1                   0.0    -2.0              115\n",
       "4  0  0  0  0                   0.0    -2.0              190\n",
       "5  1  1  0  0                   0.0    -2.0               83\n",
       "6  0  1  0  0                   0.0    -2.0              183\n",
       "7  1  0  1  1                   0.0    -2.0               95"
      ]
     },
     "execution_count": 12,
     "metadata": {},
     "output_type": "execute_result"
    }
   ],
   "source": [
    "Q = {(0, 0): 2, (3, 3): 2, (0, 1): -2, (1, 2): 2, (2, 3): -2, (0, 3): -2}\n",
    "sample_qubo_on_qpu(Q)"
   ]
  },
  {
   "cell_type": "code",
   "execution_count": null,
   "metadata": {},
   "outputs": [],
   "source": []
  }
 ],
 "metadata": {
  "anaconda-cloud": {},
  "kernelspec": {
   "display_name": "AVANETIX",
   "language": "python",
   "name": "python3"
  },
  "language_info": {
   "codemirror_mode": {
    "name": "ipython",
    "version": 3
   },
   "file_extension": ".py",
   "mimetype": "text/x-python",
   "name": "python",
   "nbconvert_exporter": "python",
   "pygments_lexer": "ipython3",
   "version": "3.7.1"
  },
  "varInspector": {
   "cols": {
    "lenName": 16,
    "lenType": 16,
    "lenVar": 40
   },
   "kernels_config": {
    "python": {
     "delete_cmd_postfix": "",
     "delete_cmd_prefix": "del ",
     "library": "var_list.py",
     "varRefreshCmd": "print(var_dic_list())"
    },
    "r": {
     "delete_cmd_postfix": ") ",
     "delete_cmd_prefix": "rm(",
     "library": "var_list.r",
     "varRefreshCmd": "cat(var_dic_list()) "
    }
   },
   "types_to_exclude": [
    "module",
    "function",
    "builtin_function_or_method",
    "instance",
    "_Feature"
   ],
   "window_display": false
  }
 },
 "nbformat": 4,
 "nbformat_minor": 4
}
