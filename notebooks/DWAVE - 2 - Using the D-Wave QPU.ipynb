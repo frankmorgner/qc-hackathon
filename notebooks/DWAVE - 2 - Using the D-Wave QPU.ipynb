{
 "cells": [
  {
   "cell_type": "markdown",
   "metadata": {},
   "source": [
    "<img src=\"images/dwave_leap.png\" width=\"500 px\" align=\"center\">"
   ]
  },
  {
   "cell_type": "markdown",
   "metadata": {},
   "source": [
    "# Getting Started with Ocean - Part 2\n",
    "\n",
    "\n",
    "\n"
   ]
  },
  {
   "cell_type": "code",
   "execution_count": null,
   "metadata": {},
   "outputs": [],
   "source": [
    "import matplotlib.pyplot as plt\n",
    "%matplotlib inline"
   ]
  },
  {
   "cell_type": "markdown",
   "metadata": {},
   "source": [
    "## Example: Friends & Enemies"
   ]
  },
  {
   "cell_type": "markdown",
   "metadata": {},
   "source": [
    "<img src=\"images/fe_8.jpg\" width=\"800 px\" align=\"center\">"
   ]
  },
  {
   "cell_type": "markdown",
   "metadata": {},
   "source": [
    "Let us start with this slightly modified Friends and Enemy example. The respective QUBO is\n",
    "\n",
    "$$\n",
    "\\rm{QUBO} = -2 +2x -2xy +2yz -2zx\n",
    "$$"
   ]
  },
  {
   "cell_type": "code",
   "execution_count": null,
   "metadata": {},
   "outputs": [],
   "source": [
    "import dimod \n",
    "\n",
    "# using the order: (x, y, z, w)\n",
    "Q = {(0, 0): 2, (0, 1): -2, (1, 2): 2, (0, 2): -2}\n",
    "Offset = -2\n",
    "\n",
    "# construct the BQM\n",
    "bqm = dimod.BinaryQuadraticModel.from_qubo(Q, offset=Offset)"
   ]
  },
  {
   "cell_type": "code",
   "execution_count": null,
   "metadata": {},
   "outputs": [],
   "source": [
    "from utils.libqubo import show_bqm_graph\n",
    "show_bqm_graph(bqm)"
   ]
  },
  {
   "cell_type": "markdown",
   "metadata": {},
   "source": [
    "Now we need to get access to the QPU **solver** provided by D-Wave. A solver is a resource for solving problems. Some solvers interface to the QPU; others leverage CPU and GPU resources.\n",
    "\n",
    "Solvers are responsible for:\n",
    "\n",
    "- Encoding submitted problems\n",
    "- Checking submitted parameters\n",
    "- Decoding answers\n",
    "- Adding problems to a client’s submission queue\n",
    "\n",
    "With the solver as ressource we can use a **sampler** to obtain results for our problem. A sampler is a process that samples from low energy states of a problem’s objective function. A binary quadratic model (BQM) sampler samples from low energy states in models such as those defined by an Ising equation or a Quadratic Unconstrained Binary Optimization (QUBO) problem and returns an iterable of samples, in order of increasing energy. A dimod sampler provides ‘sample_qubo’ and ‘sample_ising’ methods as well as the generic BQM sampler method."
   ]
  },
  {
   "cell_type": "code",
   "execution_count": null,
   "metadata": {},
   "outputs": [],
   "source": [
    "from dwave.system.samplers import DWaveSampler  \n",
    "\n",
    "MY_TOKEN = \"\"\n",
    "# list the names of all solvers we can access\n",
    "sampler = DWaveSampler(token=MY_TOKEN, solver={'qpu': True})\n",
    "print('Successfully connected to D-Wave Sampler %s.' % sampler.client.get_solver().id)"
   ]
  },
  {
   "cell_type": "code",
   "execution_count": null,
   "metadata": {},
   "outputs": [],
   "source": [
    "# obtain some information about the solver we use\n",
    "info = sampler.solver.data.copy()\n",
    "del info['properties']['qubits']\n",
    "del info['properties']['couplers']\n",
    "del info['properties']['anneal_offset_ranges']\n",
    "info"
   ]
  },
  {
   "cell_type": "markdown",
   "metadata": {},
   "source": [
    "Lets sample and obtain some results..."
   ]
  },
  {
   "cell_type": "code",
   "execution_count": null,
   "metadata": {},
   "outputs": [],
   "source": [
    "# sample energy space\n",
    "sampleset = sampler.sample(bqm, num_reads=1000)"
   ]
  },
  {
   "cell_type": "markdown",
   "metadata": {},
   "source": [
    "Oh... obviously our problem can not be embedded on the hardware straight forward. This happens quite often and it is known as the so called embedding problem. So solve that we have to map multiple physical qubits to logic qubits just like in the example below. Multiple physical qubits can be combined to form a logical qubit as long as the form a subset on the Hardware graph, i.e. the form a chain."
   ]
  },
  {
   "cell_type": "markdown",
   "metadata": {},
   "source": [
    "<img src=\"images/embedding.png\" width=1000>"
   ]
  },
  {
   "cell_type": "markdown",
   "metadata": {},
   "source": [
    "So before we are able to encode our problem on a certain QPU we first need to find a suitable embedding. D-Wave provides different routines to find such embeddings, e.g. `minorminer.find_embedding`, `EmbeddingComposite`, `FixedEmbedding`, `LazyEmbedding`. For course you can also manually define your own embedding and hand it to the sampler."
   ]
  },
  {
   "cell_type": "code",
   "execution_count": null,
   "metadata": {},
   "outputs": [],
   "source": [
    "from minorminer import find_embedding\n",
    "# get target structure\n",
    "target_nodes, target_edges, _ = sampler.structure\n",
    "# find an embedding suitable to the solver\n",
    "embedding = find_embedding(Q, target_edges, verbose=2, random_seed=100)\n",
    "print('\\ninspect embedding:', embedding)"
   ]
  },
  {
   "cell_type": "code",
   "execution_count": null,
   "metadata": {},
   "outputs": [],
   "source": [
    "from dwave.system.composites import FixedEmbeddingComposite, EmbeddingComposite, LazyEmbeddingComposite\n",
    "# define embedded sampler\n",
    "\n",
    "embedded_sampler = FixedEmbeddingComposite(sampler, embedding)\n",
    "#embedded_sampler = LazyEmbeddingComposite(sampler)\n",
    "#embedded_sampler = EmbeddingComposite(sampler)"
   ]
  },
  {
   "cell_type": "code",
   "execution_count": null,
   "metadata": {},
   "outputs": [],
   "source": [
    "# sample energy space\n",
    "numruns = 1000\n",
    "sampleset = embedded_sampler.sample(bqm, num_reads=numruns, chain_strength=1)\n",
    "print(\"QPU call complete using\", sampleset.info['timing']['qpu_access_time']/1000000, \"seconds of QPU time for\", numruns, \"samples.\")"
   ]
  },
  {
   "cell_type": "code",
   "execution_count": null,
   "metadata": {},
   "outputs": [],
   "source": [
    "# show samples\n",
    "sampleset.to_pandas_dataframe()"
   ]
  },
  {
   "cell_type": "markdown",
   "metadata": {},
   "source": [
    "# Workflow\n",
    "\n",
    "1. Map your problem to a binary quadratic model (QUBO or ISING)\n",
    "2. Select a solver\n",
    "3. Find an Embedding of the BQM on the solver or use the D-Wave embeddings\n",
    "4. Use a Sampler to sample the energy space of the BQM"
   ]
  },
  {
   "cell_type": "markdown",
   "metadata": {},
   "source": [
    "# Questions:\n",
    "\n",
    "- Whats the Embedding Problem?\n",
    "- Whats the difference between a logical and a physical qubit?\n",
    "- Which quantum effect is heavily made use of in a quantum annealer?\n",
    "- Can any optimization problem be reformulated as a BQM?"
   ]
  },
  {
   "cell_type": "markdown",
   "metadata": {},
   "source": [
    "# Exercise: "
   ]
  },
  {
   "cell_type": "markdown",
   "metadata": {},
   "source": [
    "Confirm the results from the previous Enemies & Friends problem on the QPU."
   ]
  }
 ],
 "metadata": {
  "anaconda-cloud": {},
  "kernelspec": {
   "display_name": "AVANETIX",
   "language": "python",
   "name": "python3"
  },
  "language_info": {
   "codemirror_mode": {
    "name": "ipython",
    "version": 3
   },
   "file_extension": ".py",
   "mimetype": "text/x-python",
   "name": "python",
   "nbconvert_exporter": "python",
   "pygments_lexer": "ipython3",
   "version": "3.7.1"
  },
  "varInspector": {
   "cols": {
    "lenName": 16,
    "lenType": 16,
    "lenVar": 40
   },
   "kernels_config": {
    "python": {
     "delete_cmd_postfix": "",
     "delete_cmd_prefix": "del ",
     "library": "var_list.py",
     "varRefreshCmd": "print(var_dic_list())"
    },
    "r": {
     "delete_cmd_postfix": ") ",
     "delete_cmd_prefix": "rm(",
     "library": "var_list.r",
     "varRefreshCmd": "cat(var_dic_list()) "
    }
   },
   "types_to_exclude": [
    "module",
    "function",
    "builtin_function_or_method",
    "instance",
    "_Feature"
   ],
   "window_display": false
  }
 },
 "nbformat": 4,
 "nbformat_minor": 4
}
