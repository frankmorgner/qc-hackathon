{
 "cells": [
  {
   "cell_type": "markdown",
   "metadata": {},
   "source": [
    "# Using the QPU"
   ]
  },
  {
   "cell_type": "code",
   "execution_count": null,
   "metadata": {},
   "outputs": [],
   "source": [
    "import numpy as np\n",
    "from qiskit import *\n",
    "from qiskit.visualization import plot_histogram, plot_gate_map, plot_circuit_layout\n",
    "%matplotlib inline"
   ]
  },
  {
   "cell_type": "markdown",
   "metadata": {},
   "source": [
    "## Example: Quantum Calculator"
   ]
  },
  {
   "cell_type": "markdown",
   "metadata": {},
   "source": [
    "In this notebook we define write a quantum calculator for binary addition and run it on the real QPU.\n",
    "\n",
    "The truth table for binary aiddtion of two-qubits reads: \n",
    "\n",
    "<div>\n",
    "    <table style=\"width:400px\">\n",
    "      <tr>\n",
    "        <th colspan=\"2\">Input</th>\n",
    "        <th>Output</th>\n",
    "      </tr>\n",
    "      <tr>\n",
    "        <th>q1</th>\n",
    "        <th>q2</th>\n",
    "        <th>$\\psi$</th>\n",
    "      </tr>\n",
    "      <tr>\n",
    "        <td>$|0\\rangle$</td>\n",
    "        <td>$|0\\rangle$</td>\n",
    "        <td>$|00\\rangle$</td>\n",
    "      </tr>\n",
    "      <tr>\n",
    "        <td>$|0\\rangle$</td>\n",
    "        <td>$|1\\rangle$</td>\n",
    "        <td>$|01\\rangle$</td>\n",
    "      </tr>\n",
    "      <tr>\n",
    "        <td>$|1\\rangle$</td>\n",
    "        <td>$|0\\rangle$</td>\n",
    "        <td>$|01\\rangle$</td>\n",
    "      </tr>\n",
    "      <tr>\n",
    "        <td>$|1\\rangle$</td>\n",
    "        <td>$|1\\rangle$</td>\n",
    "        <td>$|10\\rangle$</td>\n",
    "      </tr>\n",
    "    </table>\n",
    "</div>"
   ]
  },
  {
   "cell_type": "markdown",
   "metadata": {},
   "source": [
    "First, let us define a quantum circuit that takes to input qubits and calculates their binary sum."
   ]
  },
  {
   "cell_type": "code",
   "execution_count": null,
   "metadata": {},
   "outputs": [],
   "source": [
    "# define a quantum circuit for two-qubit addition\n",
    "q = QuantumRegister(4)\n",
    "c = ClassicalRegister(2)\n",
    "additionqc = QuantumCircuit(q, c)\n",
    "\n",
    "additionqc.cx(q[0], q[2])\n",
    "additionqc.cx(q[1], q[2])\n",
    "additionqc.ccx(q[0], q[1], q[3])\n",
    "additionqc.barrier()\n",
    "\n",
    "additionqc.draw(output='mpl')"
   ]
  },
  {
   "cell_type": "code",
   "execution_count": null,
   "metadata": {},
   "outputs": [],
   "source": [
    "# Define the input circuit\n",
    "# In this example let us set both input qubits to 1 by applying a X gate\n",
    "inqc = QuantumCircuit(q, c)\n",
    "inqc.x(q[0])\n",
    "inqc.x(q[1])\n",
    "inqc.barrier()"
   ]
  },
  {
   "cell_type": "code",
   "execution_count": null,
   "metadata": {},
   "outputs": [],
   "source": [
    "# Define the output circuit\n",
    "outqc = QuantumCircuit(q, c)\n",
    "outqc.measure(q[2],c[0])\n",
    "outqc.measure(q[3],c[1])"
   ]
  },
  {
   "cell_type": "code",
   "execution_count": null,
   "metadata": {},
   "outputs": [],
   "source": [
    "# define full Quantum Circuit for \n",
    "# the addition of two qubits in state 1\n",
    "qc = inqc + additionqc + outqc\n",
    "qc.draw(output='mpl')"
   ]
  },
  {
   "cell_type": "markdown",
   "metadata": {},
   "source": [
    "## Running circuits from the IBM Q account <a name='ibmq'></a>\n",
    "\n",
    "To facilitate access to real quantum computing hardware, we have provided a simple API interface.\n",
    "To access IBM Q devices, you'll need an API token. You can generate, or view, your API token [here](https://quantum-computing.ibm.com/account) (create an account if you don't already have one).\n",
    "\n",
    "Your IBM Q account lets you run your circuit on real devices or on our cloud simulator. Basic account usage can be seen in the examples below. For more detailed instructions on using the IBM Q account, see [Part 3: The IBMQ Account](3_the_ibmq_account.ipynb)."
   ]
  },
  {
   "cell_type": "code",
   "execution_count": null,
   "metadata": {
    "ExecuteTime": {
     "end_time": "2019-08-10T11:37:45.996553Z",
     "start_time": "2019-08-10T11:37:45.993701Z"
    }
   },
   "outputs": [],
   "source": [
    "from qiskit import IBMQ"
   ]
  },
  {
   "cell_type": "markdown",
   "metadata": {},
   "source": [
    "After generating your API token, call: `IBMQ.save_account('MY_TOKEN')`.\n",
    "\n",
    "This will store your IBM Q credentials in a local file.  Unless your registration information has changed, you only need to do this once.  You may now load your accounts by calling,"
   ]
  },
  {
   "cell_type": "code",
   "execution_count": null,
   "metadata": {
    "ExecuteTime": {
     "end_time": "2019-08-10T11:37:48.612022Z",
     "start_time": "2019-08-10T11:37:45.998566Z"
    }
   },
   "outputs": [],
   "source": [
    "MY_TOKEN = ''\n",
    "IBMQ.enable_account(token=MY_TOKEN)"
   ]
  },
  {
   "cell_type": "markdown",
   "metadata": {},
   "source": [
    "Once your account has been loaded, you have one or more providers available to you"
   ]
  },
  {
   "cell_type": "code",
   "execution_count": null,
   "metadata": {
    "ExecuteTime": {
     "end_time": "2019-08-10T11:37:48.618826Z",
     "start_time": "2019-08-10T11:37:48.614519Z"
    }
   },
   "outputs": [],
   "source": [
    "#IBMQ.load_account()\n",
    "IBMQ.providers()"
   ]
  },
  {
   "cell_type": "markdown",
   "metadata": {},
   "source": [
    "Each provider gives access to a selection of services (e.g. Backends) that is authorized by your account.  To see the backends available to a given provider, first select the provider by hub, group, project, or a combination thereof:"
   ]
  },
  {
   "cell_type": "code",
   "execution_count": null,
   "metadata": {
    "ExecuteTime": {
     "end_time": "2019-08-10T11:37:48.626125Z",
     "start_time": "2019-08-10T11:37:48.621318Z"
    }
   },
   "outputs": [],
   "source": [
    "provider = IBMQ.get_provider(group='open')"
   ]
  },
  {
   "cell_type": "markdown",
   "metadata": {},
   "source": [
    "then ask the provider to list its backends:"
   ]
  },
  {
   "cell_type": "code",
   "execution_count": null,
   "metadata": {
    "ExecuteTime": {
     "end_time": "2019-08-10T11:37:49.023564Z",
     "start_time": "2019-08-10T11:37:48.628510Z"
    }
   },
   "outputs": [],
   "source": [
    "provider.backends()"
   ]
  },
  {
   "cell_type": "markdown",
   "metadata": {},
   "source": [
    "### Running circuits on real devices\n",
    "\n",
    "Today's quantum information processors are small and noisy, but are advancing at a fast pace. They provide a great opportunity to explore what [noisy, intermediate-scale quantum (NISQ)](https://arxiv.org/abs/1801.00862) computers can do."
   ]
  },
  {
   "cell_type": "markdown",
   "metadata": {},
   "source": [
    "Now grab a backend from the provider on which to run our quantum circuit:"
   ]
  },
  {
   "cell_type": "code",
   "execution_count": null,
   "metadata": {
    "ExecuteTime": {
     "end_time": "2019-08-10T11:37:49.028903Z",
     "start_time": "2019-08-10T11:37:49.025461Z"
    }
   },
   "outputs": [],
   "source": [
    "backend = provider.get_backend('ibmq_burlington')"
   ]
  },
  {
   "cell_type": "markdown",
   "metadata": {},
   "source": [
    "Let us get some information about the backend. For example the chip layout."
   ]
  },
  {
   "cell_type": "code",
   "execution_count": null,
   "metadata": {},
   "outputs": [],
   "source": [
    "plot_gate_map(backend, plot_directed=True)"
   ]
  },
  {
   "cell_type": "markdown",
   "metadata": {},
   "source": [
    "So we have a QPU with 5 Qubits. Let us check which gates are supported by this backend"
   ]
  },
  {
   "cell_type": "code",
   "execution_count": null,
   "metadata": {},
   "outputs": [],
   "source": [
    "backend.configuration().basis_gates"
   ]
  },
  {
   "cell_type": "markdown",
   "metadata": {},
   "source": [
    "Lets compare that with our Quantum Circuit"
   ]
  },
  {
   "cell_type": "code",
   "execution_count": null,
   "metadata": {},
   "outputs": [],
   "source": [
    "qc.draw(output='mpl')"
   ]
  },
  {
   "cell_type": "markdown",
   "metadata": {},
   "source": [
    "Well... except for the CNOT gate, the basis gates of the hardware are totaly different gates than we have in our circuit! But, worry not, it is quite commmon to have such reduced basis gate sets for the real physical hardware. Therefore, the gates we use in our algorithm get decomposed into these supported basis set. This step is done using the **transpiler**."
   ]
  },
  {
   "cell_type": "code",
   "execution_count": null,
   "metadata": {},
   "outputs": [],
   "source": [
    "transpiler = transpile(qc, backend)\n",
    "transpiler.draw(output='mpl')"
   ]
  },
  {
   "cell_type": "markdown",
   "metadata": {},
   "source": [
    "Obviously we need a lot more gates on the real hardware compared to our algorithm! \n",
    "Let us compare the circuit depth"
   ]
  },
  {
   "cell_type": "code",
   "execution_count": null,
   "metadata": {},
   "outputs": [],
   "source": [
    "qc.depth(), transpiler.depth()"
   ]
  },
  {
   "cell_type": "markdown",
   "metadata": {},
   "source": [
    "The algorithm that gets run on the QPU is much larger than we would have guessed from our algorithm! Keep in mind that, the longer our algorithm the more errors and noise we have to expect for our measurement!"
   ]
  },
  {
   "cell_type": "markdown",
   "metadata": {},
   "source": [
    "Having the transpiled quantum circuit we can now _run_ the job on the real hardware. However, it is more convenient to use the `execute` command. This command automatically performs the _transpile_ and _run_ step."
   ]
  },
  {
   "cell_type": "code",
   "execution_count": null,
   "metadata": {
    "ExecuteTime": {
     "end_time": "2019-08-10T11:38:10.495874Z",
     "start_time": "2019-08-10T11:37:49.031047Z"
    },
    "scrolled": true
   },
   "outputs": [],
   "source": [
    "from qiskit.tools.monitor import job_monitor\n",
    "\n",
    "job_exp = execute(qc, backend=backend, shots=5000)\n",
    "job_monitor(job_exp)"
   ]
  },
  {
   "cell_type": "code",
   "execution_count": null,
   "metadata": {
    "ExecuteTime": {
     "end_time": "2019-08-10T11:38:10.930480Z",
     "start_time": "2019-08-10T11:38:10.498070Z"
    }
   },
   "outputs": [],
   "source": [
    "result_exp = job_exp.result()"
   ]
  },
  {
   "cell_type": "markdown",
   "metadata": {},
   "source": [
    "Like before, the counts from the execution can be obtained using ```get_counts()``` "
   ]
  },
  {
   "cell_type": "code",
   "execution_count": null,
   "metadata": {
    "ExecuteTime": {
     "end_time": "2019-08-10T11:38:11.106254Z",
     "start_time": "2019-08-10T11:38:10.936297Z"
    }
   },
   "outputs": [],
   "source": [
    "counts_exp = result_exp.get_counts()\n",
    "plot_histogram([counts_exp], legend=['QPU'])"
   ]
  },
  {
   "cell_type": "markdown",
   "metadata": {},
   "source": [
    "Well, that is not entirely what we expected... Any idea why?\n",
    "Let us the simulator to see if we run the correct circuit."
   ]
  },
  {
   "cell_type": "markdown",
   "metadata": {},
   "source": [
    "### Simulating circuits using the IBM Q cloud simulator\n",
    "\n",
    "The IBM Q provider also comes with a remote optimized simulator called ``ibmq_qasm_simulator``. This remote simulator is capable of simulating up to 32 qubits. It can be used the same way as the remote real backends. "
   ]
  },
  {
   "cell_type": "code",
   "execution_count": null,
   "metadata": {
    "ExecuteTime": {
     "end_time": "2019-08-10T11:38:11.111059Z",
     "start_time": "2019-08-10T11:38:11.108664Z"
    }
   },
   "outputs": [],
   "source": [
    "simulator_backend = provider.get_backend('ibmq_qasm_simulator')"
   ]
  },
  {
   "cell_type": "code",
   "execution_count": null,
   "metadata": {
    "ExecuteTime": {
     "end_time": "2019-08-10T11:38:11.139628Z",
     "start_time": "2019-08-10T11:38:11.113246Z"
    }
   },
   "outputs": [],
   "source": [
    "job_cloud = execute(qc, backend=simulator_backend)"
   ]
  },
  {
   "cell_type": "code",
   "execution_count": null,
   "metadata": {
    "ExecuteTime": {
     "end_time": "2019-08-10T11:38:17.557589Z",
     "start_time": "2019-08-10T11:38:11.143017Z"
    }
   },
   "outputs": [],
   "source": [
    "result_cloud = job_cloud.result()"
   ]
  },
  {
   "cell_type": "code",
   "execution_count": null,
   "metadata": {
    "ExecuteTime": {
     "end_time": "2019-08-10T11:38:17.649171Z",
     "start_time": "2019-08-10T11:38:17.559620Z"
    }
   },
   "outputs": [],
   "source": [
    "counts_cloud = result_cloud.get_counts()\n",
    "plot_histogram([counts_exp, counts_cloud], legend=['QPU', 'Simulator'])"
   ]
  },
  {
   "cell_type": "markdown",
   "metadata": {},
   "source": [
    "Brilliant! In the simulator we have obtained the result $10$ which is the binary expression for $2$. Hence we have succesfully calculated the famous mathematical equation $1+1=2$."
   ]
  },
  {
   "cell_type": "markdown",
   "metadata": {},
   "source": [
    "### Retrieving a previously run job\n",
    "\n",
    "If your experiment takes longer to run then you have time to wait around, or if you simply want to retrieve old jobs, the IBM Q backends allow you to do that.\n",
    "First, you would need to note your job's ID:"
   ]
  },
  {
   "cell_type": "code",
   "execution_count": null,
   "metadata": {
    "ExecuteTime": {
     "end_time": "2019-08-10T11:38:17.654536Z",
     "start_time": "2019-08-10T11:38:17.651074Z"
    },
    "scrolled": true
   },
   "outputs": [],
   "source": [
    "job_id = job_exp.job_id()\n",
    "\n",
    "print('JOB ID: {}'.format(job_id))"
   ]
  },
  {
   "cell_type": "markdown",
   "metadata": {},
   "source": [
    "Given a job ID, that job object can be later reconstructed from the backend using ```retrieve_job```:"
   ]
  },
  {
   "cell_type": "code",
   "execution_count": null,
   "metadata": {
    "ExecuteTime": {
     "end_time": "2019-08-10T11:38:18.097079Z",
     "start_time": "2019-08-10T11:38:17.656360Z"
    }
   },
   "outputs": [],
   "source": [
    "retrieved_job = backend.retrieve_job(job_id)"
   ]
  },
  {
   "cell_type": "markdown",
   "metadata": {},
   "source": [
    "and then the results can be obtained from the new job object. "
   ]
  },
  {
   "cell_type": "code",
   "execution_count": null,
   "metadata": {
    "ExecuteTime": {
     "end_time": "2019-08-10T11:38:18.222163Z",
     "start_time": "2019-08-10T11:38:18.099147Z"
    }
   },
   "outputs": [],
   "source": [
    "plot_histogram(retrieved_job.result().get_counts(qc))"
   ]
  },
  {
   "cell_type": "markdown",
   "metadata": {},
   "source": [
    "# General Workflow"
   ]
  },
  {
   "cell_type": "markdown",
   "metadata": {},
   "source": [
    "1. Build\n",
    "    1. Setup a **Quantum Circuit** acting on Quantum and Classical **registers**\n",
    "    2. Add **Quantum Gates** for your algorithm\n",
    "    3. Add **Measurements**\n",
    "2. Execute\n",
    "    1. Choose **Backend** from provider\n",
    "    2. **Execute** the circuit on the backend\n",
    "3. **Analyze**: calculate summary statistics and visualize the results "
   ]
  },
  {
   "cell_type": "markdown",
   "metadata": {},
   "source": [
    "# Exercise"
   ]
  },
  {
   "cell_type": "markdown",
   "metadata": {},
   "source": [
    "1. In the above circuit we solved the addition $1+1=2$. How would we need to modify our circuit in order to calculate all possible two qubit sums? Build the respective quantum circuit and use the cloud simulator to confirm the result."
   ]
  },
  {
   "cell_type": "markdown",
   "metadata": {},
   "source": [
    "2. Build a Quantum Circuit for a random number generator that generates a random 3-bit sequence.\n",
    "Excute the circuit in the Qasm Simulator and on the real QPU and compare the results."
   ]
  }
 ],
 "metadata": {
  "anaconda-cloud": {},
  "kernelspec": {
   "display_name": "AVANETIX",
   "language": "python",
   "name": "python3"
  },
  "language_info": {
   "codemirror_mode": {
    "name": "ipython",
    "version": 3
   },
   "file_extension": ".py",
   "mimetype": "text/x-python",
   "name": "python",
   "nbconvert_exporter": "python",
   "pygments_lexer": "ipython3",
   "version": "3.7.1"
  },
  "varInspector": {
   "cols": {
    "lenName": 16,
    "lenType": 16,
    "lenVar": 40
   },
   "kernels_config": {
    "python": {
     "delete_cmd_postfix": "",
     "delete_cmd_prefix": "del ",
     "library": "var_list.py",
     "varRefreshCmd": "print(var_dic_list())"
    },
    "r": {
     "delete_cmd_postfix": ") ",
     "delete_cmd_prefix": "rm(",
     "library": "var_list.r",
     "varRefreshCmd": "cat(var_dic_list()) "
    }
   },
   "types_to_exclude": [
    "module",
    "function",
    "builtin_function_or_method",
    "instance",
    "_Feature"
   ],
   "window_display": false
  }
 },
 "nbformat": 4,
 "nbformat_minor": 4
}
